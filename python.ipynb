{
 "cells": [
  {
   "cell_type": "markdown",
   "metadata": {},
   "source": [
    "# Creating a Magic Square\n",
    "A magic square is an N×N grid of numbers in which the entries in each row, column and main diagonal sum to the same number (equal to n(n^2+1)/2). "
   ]
  },
  {
   "cell_type": "code",
   "execution_count": 1,
   "metadata": {},
   "outputs": [
    {
     "ename": "SyntaxError",
     "evalue": "invalid syntax (<ipython-input-1-cfa1b9f83970>, line 1)",
     "output_type": "error",
     "traceback": [
      "\u001b[1;36m  File \u001b[1;32m\"<ipython-input-1-cfa1b9f83970>\"\u001b[1;36m, line \u001b[1;32m1\u001b[0m\n\u001b[1;33m    to stop the flow\u001b[0m\n\u001b[1;37m          ^\u001b[0m\n\u001b[1;31mSyntaxError\u001b[0m\u001b[1;31m:\u001b[0m invalid syntax\n"
     ]
    }
   ],
   "source": [
    "to stop the flow\n",
    "print what"
   ]
  },
  {
   "cell_type": "code",
   "execution_count": 2,
   "metadata": {},
   "outputs": [],
   "source": [
    "#Found out that there is a pattern \n",
    "#Only work for odd n\n",
    "import numpy as np\n",
    "def makeMagicsq(n):\n",
    "    Magic= np.zeros(shape=(n,n))\n",
    "    count=1\n",
    "    #N= n(n^2+1)/2\n",
    "    i= int(n/2)\n",
    "    j= n-1\n",
    "    Magic[i][j]=count\n",
    "    while any(0 in x for x in Magic):\n",
    "        count+=1\n",
    "        i-=1\n",
    "        j+=1\n",
    "        try:\n",
    "            if i==-1 and j==n:\n",
    "                i=0\n",
    "                j=n-2\n",
    "                Magic[i][j]=count\n",
    "            else:\n",
    "                if i<0:\n",
    "                    i=n-1\n",
    "                if j==n:\n",
    "                    j=0\n",
    "                raise Exception()\n",
    "        except:\n",
    "            if Magic[i][j]==0:\n",
    "                Magic[i][j]=count\n",
    "            else:\n",
    "                i+=1\n",
    "                j-=2\n",
    "                Magic[i][j]=count\n",
    "    return Magic"
   ]
  },
  {
   "cell_type": "code",
   "execution_count": 3,
   "metadata": {},
   "outputs": [
    {
     "data": {
      "text/plain": [
       "array([[ 9.,  3., 22., 16., 15.],\n",
       "       [ 2., 21., 20., 14.,  8.],\n",
       "       [25., 19., 13.,  7.,  1.],\n",
       "       [18., 12.,  6.,  5., 24.],\n",
       "       [11., 10.,  4., 23., 17.]])"
      ]
     },
     "execution_count": 3,
     "metadata": {},
     "output_type": "execute_result"
    }
   ],
   "source": [
    "makeMagicsq(5)"
   ]
  },
  {
   "cell_type": "markdown",
   "metadata": {},
   "source": [
    "# Checking if a string is palindrome"
   ]
  },
  {
   "cell_type": "code",
   "execution_count": 4,
   "metadata": {},
   "outputs": [],
   "source": [
    "def check_P(s):\n",
    "    s=s.lower()\n",
    "    temp=s[::-1]\n",
    "    if s==temp:\n",
    "        return True\n",
    "    else:\n",
    "        return False"
   ]
  },
  {
   "cell_type": "code",
   "execution_count": 5,
   "metadata": {},
   "outputs": [
    {
     "data": {
      "text/plain": [
       "False"
      ]
     },
     "execution_count": 5,
     "metadata": {},
     "output_type": "execute_result"
    }
   ],
   "source": [
    "a=\"saias\"\n",
    "a[1]!=a[-2]"
   ]
  },
  {
   "cell_type": "markdown",
   "metadata": {},
   "source": [
    "# https://www.hackerrank.com/challenges/palindrome-index/problem?h_r=internal-search"
   ]
  },
  {
   "cell_type": "code",
   "execution_count": 6,
   "metadata": {},
   "outputs": [
    {
     "name": "stdout",
     "output_type": "stream",
     "text": [
      "-1\n"
     ]
    }
   ],
   "source": [
    "def palindromeIndex(s):\n",
    "    if check_P(s) is True:\n",
    "        return -1\n",
    "    for i in range(len(s)):\n",
    "        if s[i]!=s[-i-1]:\n",
    "            if check_P(s[:i]+s[i+1:]) is True:\n",
    "                return i\n",
    "    return -1\n",
    "print(palindromeIndex(\"yjyjwdjoyrum\"))"
   ]
  },
  {
   "cell_type": "markdown",
   "metadata": {},
   "source": [
    "# Bode plot"
   ]
  },
  {
   "cell_type": "code",
   "execution_count": 7,
   "metadata": {},
   "outputs": [
    {
     "data": {
      "image/png": "[encoded data removed]",
      "text/plain": [
       "<Figure size 432x288 with 1 Axes>"
      ]
     },
     "metadata": {
      "needs_background": "light"
     },
     "output_type": "display_data"
    },
    {
     "data": {
      "image/png": "[encoded data removed]",
      "text/plain": [
       "<Figure size 432x288 with 1 Axes>"
      ]
     },
     "metadata": {
      "needs_background": "light"
     },
     "output_type": "display_data"
    }
   ],
   "source": [
    "%matplotlib inline\n",
    "from scipy import signal\n",
    "import matplotlib.pyplot as plt\n",
    "num=[1000,0]\n",
    "den=[1,2,100]\n",
    "sys = signal.TransferFunction(num,den)\n",
    "w, mag, phase = signal.bode(sys)\n",
    "plt.figure()\n",
    "plt.semilogx(w, mag)    # Bode magnitude plot\n",
    "plt.figure()\n",
    "plt.semilogx(w, phase)  # Bode phase plot\n",
    "plt.show()"
   ]
  },
  {
   "cell_type": "markdown",
   "metadata": {},
   "source": [
    "# Super Reduced String"
   ]
  },
  {
   "cell_type": "code",
   "execution_count": 8,
   "metadata": {},
   "outputs": [
    {
     "name": "stdout",
     "output_type": "stream",
     "text": [
      "Empty String\n"
     ]
    }
   ],
   "source": [
    "#!/bin/python3\n",
    "import re\n",
    "# Complete the superReducedString function below.\n",
    "def helper(i,s):\n",
    "    s=s.replace(i,'',1)\n",
    "    return s\n",
    " \n",
    "def superReducedString(s):\n",
    "    c=1\n",
    "    while c!=0:\n",
    "        try:\n",
    "            c=re.compile(r'(\\w)\\1')\n",
    "            i=c.search(s).group(0)\n",
    "            s=helper(i,s)\n",
    "        except:\n",
    "            c=0\n",
    "    if s is '':\n",
    "        return \"Empty String\"\n",
    "    else:\n",
    "        return s\n",
    "\n",
    "print(superReducedString('baab'))"
   ]
  },
  {
   "cell_type": "markdown",
   "metadata": {},
   "source": [
    "# https://www.hackerrank.com/challenges/maximum-palindromes/problem"
   ]
  },
  {
   "cell_type": "code",
   "execution_count": 9,
   "metadata": {},
   "outputs": [
    {
     "name": "stdout",
     "output_type": "stream",
     "text": [
      "faf\n",
      "t43t\n"
     ]
    },
    {
     "ename": "ValueError",
     "evalue": "invalid literal for int() with base 10: 't43t'",
     "output_type": "error",
     "traceback": [
      "\u001b[1;31m---------------------------------------------------------------------------\u001b[0m",
      "\u001b[1;31mValueError\u001b[0m                                Traceback (most recent call last)",
      "\u001b[1;32m<ipython-input-9-28ce3cc026b4>\u001b[0m in \u001b[0;36m<module>\u001b[1;34m\u001b[0m\n\u001b[0;32m     30\u001b[0m \u001b[1;33m\u001b[0m\u001b[0m\n\u001b[0;32m     31\u001b[0m \u001b[1;33m\u001b[0m\u001b[0m\n\u001b[1;32m---> 32\u001b[1;33m     \u001b[0mq\u001b[0m \u001b[1;33m=\u001b[0m \u001b[0mint\u001b[0m\u001b[1;33m(\u001b[0m\u001b[0minput\u001b[0m\u001b[1;33m(\u001b[0m\u001b[1;33m)\u001b[0m\u001b[1;33m.\u001b[0m\u001b[0mstrip\u001b[0m\u001b[1;33m(\u001b[0m\u001b[1;33m)\u001b[0m\u001b[1;33m)\u001b[0m\u001b[1;33m\u001b[0m\u001b[1;33m\u001b[0m\u001b[0m\n\u001b[0m\u001b[0;32m     33\u001b[0m \u001b[1;33m\u001b[0m\u001b[0m\n\u001b[0;32m     34\u001b[0m     \u001b[1;32mfor\u001b[0m \u001b[0mq_itr\u001b[0m \u001b[1;32min\u001b[0m \u001b[0mrange\u001b[0m\u001b[1;33m(\u001b[0m\u001b[0mq\u001b[0m\u001b[1;33m)\u001b[0m\u001b[1;33m:\u001b[0m\u001b[1;33m\u001b[0m\u001b[1;33m\u001b[0m\u001b[0m\n",
      "\u001b[1;31mValueError\u001b[0m: invalid literal for int() with base 10: 't43t'"
     ]
    }
   ],
   "source": [
    "#!/bin/python3\n",
    "import itertools\n",
    "\n",
    "def permutencheck(s):\n",
    "    length=0\n",
    "    #save=1  #IT will be overwritten mostly\n",
    "    for i in range(1,len(s)+1):\n",
    "        temp = set(itertools.permutations(s,i))\n",
    "        count=0\n",
    "        for each in temp:\n",
    "            if each==each[::-1]:\n",
    "                if i>length:\n",
    "                    count+=1\n",
    "                    lenth=i\n",
    "                else:\n",
    "                    count+=1\n",
    "        if count>0:\n",
    "            save=count\n",
    "    return save\n",
    "                \n",
    "def answerQuery(l, r, s):\n",
    "    s=s[l-1:r]\n",
    "    catch=permutencheck(s)\n",
    "    return catch % 1000000007\n",
    "    # Return the answer for this query modulo 1000000007.\n",
    "\n",
    "if __name__ == '__main__':\n",
    " \n",
    "    s = input()\n",
    "\n",
    "\n",
    "    q = int(input().strip())\n",
    "\n",
    "    for q_itr in range(q):\n",
    "        first_multiple_input = input().rstrip().split()\n",
    "\n",
    "        l = int(first_multiple_input[0])\n",
    "\n",
    "        r = int(first_multiple_input[1])\n",
    "\n",
    "        result = answerQuery(l, r, s)\n",
    "\n",
    "        print(result)\n"
   ]
  },
  {
   "cell_type": "code",
   "execution_count": null,
   "metadata": {},
   "outputs": [],
   "source": [
    "s='murrrmeowvaryasomeonecoolllllllzzzzzzsleeeeepppppiparrotorangelampandwhatprefixsums'\n",
    "s=s[13:14]\n",
    "s"
   ]
  },
  {
   "cell_type": "markdown",
   "metadata": {},
   "source": [
    "# https://www.hackerrank.com/challenges/day-of-the-programmer/problem"
   ]
  },
  {
   "cell_type": "code",
   "execution_count": null,
   "metadata": {},
   "outputs": [],
   "source": [
    "Dict={}\n",
    "for i in range(1,13):\n",
    "    if i%2 ==0:\n",
    "        if i>7:\n",
    "            Dict[i]= 31\n",
    "        else:\n",
    "            if i==2:\n",
    "                Dict[i]= 28\n",
    "            else:\n",
    "                Dict[i]= 30\n",
    "    else:\n",
    "        if i<8:\n",
    "            Dict[i]= 31\n",
    "        else:\n",
    "            Dict[i]= 30\n",
    "\n",
    "\n",
    "def checkleap(x,magic):\n",
    "    if magic==1:\n",
    "        if x%400 == 0 or (x%4 ==0 and x%100!=0):\n",
    "            return True\n",
    "        else:\n",
    "            return False\n",
    "    if magic==0:\n",
    "        if x%4 == 0:\n",
    "            return True\n",
    "        else:\n",
    "            return False\n",
    "def printformat(a,x):\n",
    "        return \"{0:0=2d}\".format(a)+'.09.'+\"{0:0=4d}\".format(x)\n",
    "def findays(yyyy):\n",
    "    if yyyy== 1918:\n",
    "        # here, Jan + Feb days= 31+15\n",
    "        remain = 256-230\n",
    "    elif yyyy<1918:\n",
    "        if checkleap(yyyy,0):\n",
    "            remain=256-243-1\n",
    "        else:\n",
    "            remain=256-243\n",
    "    else:\n",
    "        #check for leap\n",
    "        if checkleap(yyyy,1):\n",
    "            #Sum of non-leap year until August is 243\n",
    "            remain=256-243-1\n",
    "        else:\n",
    "            remain=256-243\n",
    "    return printformat(remain,yyyy)\n",
    "        \n",
    "print(findays(27))        "
   ]
  },
  {
   "cell_type": "markdown",
   "metadata": {},
   "source": [
    "# https://www.hackerrank.com/challenges/weighted-uniform-string/problem"
   ]
  },
  {
   "cell_type": "code",
   "execution_count": null,
   "metadata": {},
   "outputs": [],
   "source": [
    "import string\n",
    "from collections import Counter\n",
    "def weightedUniformStrings(s,queries):\n",
    "    di=dict(zip(string.ascii_lowercase,[ord(c)%32 for c in string.ascii_lowercase]))\n",
    "    b = Counter(s)\n",
    "    lis = []\n",
    "    for k,v in b.items():\n",
    "        for i in range(1,v+1):\n",
    "            lis.append(di[k]*i)\n",
    "    print(lis)\n",
    "    result =[]\n",
    "    for i in queries:\n",
    "        if i in lis:\n",
    "            result.append('Yes')\n",
    "        else:\n",
    "            result.append('No')\n",
    "    return result\n",
    "print(weightedUniformStrings('abccddde',[1,3,12,5,9,10]))\n",
    "        "
   ]
  },
  {
   "cell_type": "markdown",
   "metadata": {},
   "source": [
    "# https://www.hackerrank.com/challenges/strong-password/problem"
   ]
  },
  {
   "cell_type": "code",
   "execution_count": null,
   "metadata": {},
   "outputs": [],
   "source": [
    "import string\n",
    "def minimumNumber(n, password):\n",
    "    # Return the minimum number of characters to make the password strong\n",
    "    count=0\n",
    "    upcount=False\n",
    "    lowcount=False\n",
    "    spccount=False\n",
    "    digcount=False\n",
    "    spc =\"!@#$%^&*()-+\"\n",
    "    dig = string.digits\n",
    "    Up = string.ascii_uppercase\n",
    "    Low = string.ascii_lowercase\n",
    "    for each in list(password):\n",
    "        if each in Up:\n",
    "            upcount= True     \n",
    "        if each in Low:\n",
    "            lowcount= True\n",
    "        if each in spc:\n",
    "            spccount= True\n",
    "        if each in dig:\n",
    "            digcount= True\n",
    "    for i in [upcount,lowcount,spccount,digcount]:\n",
    "        if i:\n",
    "            count+=1\n",
    "    if count<4:\n",
    "        ret = 4-count\n",
    "    if n+ret<6:\n",
    "        ret+=6-n-ret\n",
    "    return ret\n",
    "password = input()\n",
    "print(minimumNumber(len(password), password))"
   ]
  },
  {
   "cell_type": "markdown",
   "metadata": {},
   "source": [
    "# https://www.hackerrank.com/challenges/sherlock-and-valid-string/problem"
   ]
  },
  {
   "cell_type": "code",
   "execution_count": null,
   "metadata": {},
   "outputs": [],
   "source": [
    "from collections import Counter\n",
    "def isValid(s):\n",
    "    a=Counter(s)\n",
    "    print(a)\n",
    "    YES=True\n",
    "    b=Counter(a.values())\n",
    "    print(b)\n",
    "    if len(b)>2:\n",
    "        YES=False\n",
    "    elif len(b)==2:\n",
    "        if min(b.values())!=1:\n",
    "            #print(\"IMIN\")\n",
    "            YES=False\n",
    "        else:\n",
    "            YES=False\n",
    "            #find which of b.values() is 1; is it the one with higher a.values()\n",
    "            if b[max(a.values())]==1:\n",
    "                if max(a.values())-min(a.values())==1:\n",
    "                    YES=True\n",
    "            if b[min(a.values())]==1:\n",
    "                if min(a.values())==1:\n",
    "                    YES=True\n",
    "    if YES:\n",
    "        return('YES')\n",
    "    else:\n",
    "        return('NO')\n",
    "            \n",
    "    \n",
    "if __name__ == '__main__':\n",
    "   # s = input()\n",
    "    s='aabbccddd'\n",
    "    result = isValid(s)\n",
    "\n",
    "    print(result)"
   ]
  },
  {
   "cell_type": "markdown",
   "metadata": {},
   "source": [
    "# https://www.hackerrank.com/challenges/big-sorting/problem"
   ]
  },
  {
   "cell_type": "code",
   "execution_count": null,
   "metadata": {},
   "outputs": [],
   "source": [
    "def bigSorting(unsorted):\n",
    "    unsorted=list(map(int,unsorted))\n",
    "    unsorted.sort()\n",
    "    return unsorted\n",
    "\n",
    "if __name__ == '__main__':\n",
    "\n",
    "    n = int(input())\n",
    "\n",
    "    unsorted = []\n",
    "\n",
    "    for _ in range(n):\n",
    "        unsorted_item = input()\n",
    "        unsorted.append(unsorted_item)\n",
    "\n",
    "    result = bigSorting(unsorted)\n",
    "    for i in result:\n",
    "        print(i)\n",
    "    print(result)\n"
   ]
  },
  {
   "cell_type": "markdown",
   "metadata": {},
   "source": [
    "# https://www.hackerrank.com/challenges/organizing-containers-of-balls/problem"
   ]
  },
  {
   "cell_type": "code",
   "execution_count": null,
   "metadata": {},
   "outputs": [],
   "source": [
    "import numpy as np\n",
    "def organizingContainers(container):\n",
    "    rows=[]\n",
    "    colms=[]\n",
    "    diag=[]\n",
    "    for i in range(len(container)):\n",
    "        diag.append(container[i][i])\n",
    "        rows.append(sum(container[i]))\n",
    "    #rows= np.subtract(rows,diag)\n",
    "    colms=[sum(col) for col in zip(*container)]\n",
    "    \n",
    "    flag= 'Possible'\n",
    "    print(rows)\n",
    "    print('********')\n",
    "    print(colms)\n",
    "    print('*********')\n",
    "    for k, v in zip(sorted(rows),sorted(colms)):\n",
    "        if k!=v:\n",
    "            flag='Impossible'\n",
    "    return flag\n",
    "\n",
    "if __name__ == '__main__':\n",
    "\n",
    "    n = int(input())\n",
    "\n",
    "    container = []\n",
    "\n",
    "    for _ in range(n):\n",
    "        container.append(list(map(int, input().rstrip().split())))\n",
    "\n",
    "    result = organizingContainers(container)\n",
    "    print(result)"
   ]
  },
  {
   "cell_type": "markdown",
   "metadata": {},
   "source": [
    "# https://www.hackerrank.com/challenges/grid-challenge/problem"
   ]
  },
  {
   "cell_type": "code",
   "execution_count": null,
   "metadata": {},
   "outputs": [],
   "source": [
    "# def gridChallenge(grid):\n",
    "#     total =[]\n",
    "#     for i in grid:\n",
    "#         total.append(list(i))\n",
    "#     rows= []\n",
    "#     for i in range(len(total)):\n",
    "#         rows.append(sorted(total[i]))\n",
    "#     print(rows)\n",
    "#     print('******')\n",
    "#     colms=[list(col) for col in zip(*rows)]\n",
    "#     print(colms)\n",
    "#     colm=[sorted(col) for col in colms]\n",
    "#     print(colm)\n",
    "#     if colms == colm:\n",
    "#         return 'Yes'\n",
    "#     else:\n",
    "#         return 'No'\n",
    "    \n",
    "# if __name__ == '__main__':\n",
    "#     n = int(input())\n",
    "#     grid = []\n",
    "\n",
    "#     for _ in range(n):\n",
    "#         grid_item = input()\n",
    "#         grid.append(grid_item)\n",
    "\n",
    "#     result = gridChallenge(grid)\n",
    "#     print(result)"
   ]
  },
  {
   "cell_type": "markdown",
   "metadata": {},
   "source": [
    "# https://www.hackerrank.com/challenges/insertionsort1/problem?utm_campaign=challenge-recommendation&utm_medium=email&utm_source=24-hour-campaign"
   ]
  },
  {
   "cell_type": "code",
   "execution_count": null,
   "metadata": {},
   "outputs": [],
   "source": [
    "def insertionSort1(n, arr):\n",
    "    flag=0\n",
    "    c = arr[n-1]\n",
    "    for i in range(n-2,-1,-1):\n",
    "        if c<arr[i]:\n",
    "            arr[i+1]=arr[i]\n",
    "        else:\n",
    "            arr[i+1] = c\n",
    "            flag=1\n",
    "            break\n",
    "        print(*arr)\n",
    "    if flag==0:\n",
    "        arr[0]=c\n",
    "    print(*arr)\n",
    "\n",
    "if __name__ == '__main__':\n",
    "    n = int(input())\n",
    "\n",
    "    arr = list(map(int, input().rstrip().split()))\n",
    "\n",
    "    insertionSort1(4, arr)"
   ]
  },
  {
   "cell_type": "markdown",
   "metadata": {},
   "source": [
    "# https://www.hackerrank.com/challenges/priyanka-and-toys/problem\n"
   ]
  },
  {
   "cell_type": "code",
   "execution_count": null,
   "metadata": {},
   "outputs": [],
   "source": [
    "def toys(w):\n",
    "    count=0\n",
    "    while 1:\n",
    "        smt = min(w)\n",
    "        for i in range(smt,smt+5):\n",
    "            w=[x for x in w if x!=i]\n",
    "        count+=1\n",
    "        if w==[]:\n",
    "            break\n",
    "    return count\n",
    "\n",
    "if __name__ == '__main__':\n",
    "\n",
    "\n",
    "    w = list(map(int, input().rstrip().split()))\n",
    "\n",
    "    result = toys(w)\n",
    "    print(result)"
   ]
  },
  {
   "cell_type": "markdown",
   "metadata": {},
   "source": [
    "# https://www.hackerrank.com/challenges/sherlock-and-the-beast/problem"
   ]
  },
  {
   "cell_type": "code",
   "execution_count": null,
   "metadata": {},
   "outputs": [],
   "source": [
    "def helper(value, x_v, y_v):\n",
    "    temp_x=0\n",
    "    temp_y=0\n",
    "    for x in range(0, 1000001):\n",
    "        #print(x)\n",
    "        y = float(value - (x * x_v)) / y_v\n",
    "        if int(y) == y and 1000000 >= y >= 0:\n",
    "            if y>= temp_y:\n",
    "                temp_x=x\n",
    "                temp_y=y\n",
    "            #print(x,y)\n",
    "    return int(temp_x),int(temp_y) \n",
    "def decentNumber(n):\n",
    "    if n==1:\n",
    "        return -1\n",
    "    # From the problem, equation( 5*three+3*five=total no of digits)\n",
    "    three, five = helper(n, 5, 3)\n",
    "    #print(three, five)\n",
    "    if three == 0 and five == 0:\n",
    "        return -1\n",
    "    else:\n",
    "        return '555'*five+'33333'*three\n",
    "    \n",
    "    \n",
    "if __name__ == '__main__':\n",
    "        n = int(input().strip())\n",
    "\n",
    "        d= decentNumber(n)\n",
    "        print(d)\n"
   ]
  },
  {
   "cell_type": "code",
   "execution_count": null,
   "metadata": {},
   "outputs": [],
   "source": [
    "value = 11\n",
    "x_val = 5\n",
    "y_val = 3\n",
    "for x in range(1, 10001):\n",
    "    y = float(value - (x * x_val)) / y_val\n",
    "    if int(y) == y and 10000 >= y >= 1:\n",
    "        print (\"x={}, y={}\".format(int(x), int(y)))\n",
    "        break\n",
    "    else:\n",
    "        print(0,0)"
   ]
  },
  {
   "cell_type": "markdown",
   "metadata": {},
   "source": [
    "# https://www.hackerrank.com/challenges/pylons/problem"
   ]
  },
  {
   "cell_type": "code",
   "execution_count": null,
   "metadata": {},
   "outputs": [],
   "source": [
    "def pylon(k, arr):\n",
    "    latestNode= None\n",
    "    nextRange = 0\n",
    "    totalPlants = 0\n",
    "    for i in range(len(arr)):\n",
    "        if i-nextRange>=k:\n",
    "            if latestNode== None:\n",
    "                print(-1)\n",
    "                exit(0)\n",
    "            else:\n",
    "                totalPlants+=1\n",
    "                nextRange= latestNode+k\n",
    "                latestNode= None\n",
    "        if arr[i]==1:\n",
    "            latestNode = i\n",
    "    if nextRange<len(arr):\n",
    "        if latestNode == None:\n",
    "            print(-1)\n",
    "            exit(0)\n",
    "        else:\n",
    "            totalPlants+=1\n",
    "    print(totalPlants)\n",
    "          \n",
    "if __name__ == '__main__':\n",
    "    nk = input().split()\n",
    "\n",
    "    n = int(nk[0])\n",
    "\n",
    "    k = int(nk[1])\n",
    "\n",
    "    arr = list(map(int, input().rstrip().split()))\n",
    "    pylon(k,arr)"
   ]
  },
  {
   "cell_type": "markdown",
   "metadata": {},
   "source": [
    "# https://www.hackerrank.com/challenges/insertionsort2/problem?utm_campaign=challenge-recommendation&utm_medium=email&utm_source=24-hour-campaign"
   ]
  },
  {
   "cell_type": "code",
   "execution_count": null,
   "metadata": {},
   "outputs": [],
   "source": [
    "def insertionSort1(n, arr):\n",
    "    flag=0\n",
    "    c = arr[n-1]\n",
    "    for i in range(n-2,-1,-1):\n",
    "        if c<arr[i]:\n",
    "            arr[i+1]=arr[i]\n",
    "        else:\n",
    "            arr[i+1] = c\n",
    "            flag=1\n",
    "            break\n",
    "    if flag==0:\n",
    "        arr[0]=c\n",
    "    return arr\n",
    "    #print(*arr)\n",
    "\n",
    "def insertionSort2(n, arr):\n",
    "    for i in range(2,n+1):\n",
    "        arr=insertionSort1(i, arr[:i])+arr[i:]\n",
    "        print(*arr)\n",
    "\n",
    "if __name__ == '__main__':\n",
    "#     n = int(input())\n",
    "\n",
    "#     arr = list(map(int, input().rstrip().split()))\n",
    "\n",
    "    insertionSort2(7, [3, 4, 7, 5, 6, 2, 1])"
   ]
  },
  {
   "cell_type": "markdown",
   "metadata": {},
   "source": [
    "# Convert to binary and count the max. 1's occurance"
   ]
  },
  {
   "cell_type": "code",
   "execution_count": null,
   "metadata": {},
   "outputs": [],
   "source": [
    "#!/bin/python3\n",
    "\n",
    "import math\n",
    "import os\n",
    "import random\n",
    "import re\n",
    "import sys\n",
    "\n",
    "def findbinary(n):\n",
    "    bin =''\n",
    "    while n>0:\n",
    "        a=n%2\n",
    "        n=int(n/2)\n",
    "        bin+=str(a)\n",
    "    return bin[::-1]\n",
    "if __name__ == '__main__':\n",
    "    n = int(input())\n",
    "    bin = findbinary(n)\n",
    "    print(bin)\n",
    "    get_num_ones = re.findall(r'1+', bin)\n",
    "    print(len(max(get_num_ones,key= len)))\n"
   ]
  },
  {
   "cell_type": "markdown",
   "metadata": {},
   "source": [
    "# https://www.hackerrank.com/challenges/beautiful-pairs/problem"
   ]
  },
  {
   "cell_type": "code",
   "execution_count": null,
   "metadata": {},
   "outputs": [],
   "source": [
    "\n",
    "import math\n",
    "import os\n",
    "import random\n",
    "import re\n",
    "import sys\n",
    "\n",
    "# Complete the beautifulPairs function below.\n",
    "def beautifulPairs(A, B):\n",
    "    count=0\n",
    "    for one in A:\n",
    "        if one in B:\n",
    "            count+=1\n",
    "            B.remove(one)\n",
    "    if count==len(A):\n",
    "        count-=1\n",
    "    else:\n",
    "        count+=1\n",
    "    return count\n",
    "\n",
    "if __name__ == '__main__':\n",
    "\n",
    "    n = int(input())\n",
    "\n",
    "    A = list(map(int, input().rstrip().split()))\n",
    "\n",
    "    B = list(map(int, input().rstrip().split()))\n",
    "\n",
    "    result = beautifulPairs(A, B)\n",
    "    print(result)\n"
   ]
  },
  {
   "cell_type": "markdown",
   "metadata": {},
   "source": [
    "# https://www.hackerrank.com/challenges/candies/problem"
   ]
  },
  {
   "cell_type": "code",
   "execution_count": null,
   "metadata": {},
   "outputs": [],
   "source": [
    "def candies(N, a):\n",
    "    left, right, num = [[0 for i in range(N)] for j in range(3)]\n",
    "    p = 1\n",
    "    while p<N:\n",
    "        if a[p] > a[p-1]:\n",
    "            left[p] = left[p-1] + 1\n",
    "        p += 1\n",
    "    p = N-2\n",
    "    while p>=0:\n",
    "        if a[p] > a[p+1]:\n",
    "            right[p] = right[p+1] + 1\n",
    "        p -= 1\n",
    "    p = 0\n",
    "    while p<N:\n",
    "        num[p] = 1 + max(left[p], right[p])\n",
    "        p += 1\n",
    "    return sum(num)\n",
    "        \n",
    "if __name__ == '__main__':\n",
    "#     n = int(input())\n",
    "#     arr = []\n",
    "#     for _ in range(n):\n",
    "#         arr_item = int(input())\n",
    "#         arr.append(arr_item)\n",
    "    result = candies(10, [2,4,2,6,1,7,8,9,2,1])\n",
    "    print(result)"
   ]
  },
  {
   "cell_type": "markdown",
   "metadata": {},
   "source": [
    "# https://www.hackerrank.com/challenges/30-dictionaries-and-maps/problem"
   ]
  },
  {
   "cell_type": "code",
   "execution_count": null,
   "metadata": {},
   "outputs": [],
   "source": [
    "n= int(input())\n",
    "phonebook = dict()\n",
    "for _ in range(n):\n",
    "    a=list(input().rstrip().split())\n",
    "    phonebook[a[0]] = a[1]\n",
    "for _ in range(n):\n",
    "    smt = input().strip()\n",
    "    a = phonebook.get(smt, None)\n",
    "    if a!= None:\n",
    "        print('%s=%s'%(smt,a))\n",
    "    else:\n",
    "        print('Not found')"
   ]
  },
  {
   "cell_type": "markdown",
   "metadata": {},
   "source": [
    "# Inheritance example"
   ]
  },
  {
   "cell_type": "code",
   "execution_count": null,
   "metadata": {},
   "outputs": [],
   "source": [
    "class Person:\n",
    "\tdef __init__(self, firstName, lastName, idNumber):\n",
    "\t\tself.firstName = firstName\n",
    "\t\tself.lastName = lastName\n",
    "\t\tself.idNumber = idNumber\n",
    "\tdef printPerson(self):\n",
    "\t\tprint(\"Name:\", self.lastName + \",\", self.firstName)\n",
    "\t\tprint(\"ID:\", self.idNumber)\n",
    "\n",
    "class Student(Person):\n",
    "    #   Class Constructor\n",
    "        def __init__(self, firstName, lastName, idNumber, scores):\n",
    "            self.scores = sum(scores)/len(scores)\n",
    "            Person.__init__(self,firstName, lastName, idNumber)\n",
    "        def calculate(self):\n",
    "            if 90<= self.scores <= 100:\n",
    "                return 'O'\n",
    "            elif 80<= self.scores < 90:\n",
    "                return 'E'\n",
    "            elif 70<= self.scores < 80:\n",
    "                return 'A'\n",
    "            elif 55<= self.scores < 70:\n",
    "                return 'P'\n",
    "            elif 40<= self.scores < 55:\n",
    "                return 'D'\n",
    "            else:\n",
    "                return 'T'\n",
    "    #   \n",
    "    #   Parameters:\n",
    "    #   firstName - A string denoting the Person's first name.\n",
    "    #   lastName - A string denoting the Person's last name.\n",
    "    #   id - An integer denoting the Person's ID number.\n",
    "    #   scores - An array of integers denoting the Person's test scores.\n",
    "    #\n",
    "    # Write your constructor here\n",
    "    \n",
    "\n",
    "    #   Function Name: calculate\n",
    "    #   Return: A character denoting the grade.\n",
    "    #\n",
    "    # Write your function here\n",
    "\n",
    "line = input().split()\n",
    "firstName = line[0]\n",
    "lastName = line[1]\n",
    "idNum = line[2]\n",
    "#numScores = int(input()) # not needed for Python\n",
    "scores = list( map(int, input().split()) )\n",
    "s = Student(firstName, lastName, idNum, scores)\n",
    "s.printPerson()\n",
    "print(\"Grade:\", s.calculate())"
   ]
  },
  {
   "cell_type": "markdown",
   "metadata": {},
   "source": [
    "# https://www.hackerrank.com/challenges/30-abstract-classes/problem"
   ]
  },
  {
   "cell_type": "code",
   "execution_count": null,
   "metadata": {},
   "outputs": [],
   "source": [
    "from abc import ABCMeta, abstractmethod\n",
    "class Book(object, metaclass=ABCMeta):\n",
    "    def __init__(self,title,author):\n",
    "        self.title=title\n",
    "        self.author=author   \n",
    "    @abstractmethod\n",
    "    def display(): pass\n",
    "\n",
    "#Write MyBook class\n",
    "\n",
    "class MyBook(Book):\n",
    "    def __init__(self, title, author, price):\n",
    "        self.price= price\n",
    "        Book.__init__(self, title, author)\n",
    "    def display(self):\n",
    "        print('Title: %s'%(self.title))\n",
    "        print('Author: %s'%(self.author))\n",
    "        print('Price: %s'%(self.price))\n",
    "\n",
    "title=input()\n",
    "author=input()\n",
    "price=int(input())\n",
    "new_novel=MyBook(title,author,price)\n",
    "new_novel.display()"
   ]
  },
  {
   "cell_type": "markdown",
   "metadata": {},
   "source": [
    "# https://www.hackerrank.com/challenges/30-scope/problem"
   ]
  },
  {
   "cell_type": "code",
   "execution_count": null,
   "metadata": {},
   "outputs": [],
   "source": [
    "class Difference:\n",
    "    def __init__(self, a):\n",
    "        self.__elements = a\n",
    "    def computeDifference(self):\n",
    "        self.maximumDifference = max(self.__elements)- min(self.__elements)\n",
    "\n",
    "\t# Add your code here\n",
    "\n",
    "# End of Difference class\n",
    "\n",
    "_ = input()\n",
    "a = [int(e) for e in input().split(' ')]\n",
    "\n",
    "d = Difference(a)\n",
    "d.computeDifference()\n",
    "\n",
    "print(d.maximumDifference)"
   ]
  },
  {
   "cell_type": "markdown",
   "metadata": {},
   "source": [
    "# https://www.hackerrank.com/challenges/30-linked-list/problem"
   ]
  },
  {
   "cell_type": "code",
   "execution_count": null,
   "metadata": {},
   "outputs": [],
   "source": [
    "class Node:\n",
    "    def __init__(self,data):\n",
    "        self.data = data\n",
    "        self.next = None \n",
    "class Solution: \n",
    "    def display(self,head):\n",
    "        current = head\n",
    "        while current:\n",
    "            print(current.data,end=' ')\n",
    "            current = current.next\n",
    "\n",
    "    def insert(self,head,data): \n",
    "    #Complete this method\n",
    "        newNode = Node(data)\n",
    "        if not head:\n",
    "            return newNode\n",
    "        current = head\n",
    "        while current.next:\n",
    "            current = current.next\n",
    "        current.next= newNode\n",
    "        return head\n",
    "            \n",
    "        \n",
    "\n",
    "mylist= Solution()\n",
    "T=int(input())\n",
    "head=None\n",
    "for i in range(T):\n",
    "    data=int(input())\n",
    "    head=mylist.insert(head,data)    \n",
    "mylist.display(head); \t  "
   ]
  },
  {
   "cell_type": "markdown",
   "metadata": {},
   "source": [
    "# https://www.hackerrank.com/challenges/30-more-exceptions/problem"
   ]
  },
  {
   "cell_type": "code",
   "execution_count": null,
   "metadata": {},
   "outputs": [],
   "source": [
    "#Write your code here\n",
    "class Calculator(object):\n",
    "    def power(self,n,p):\n",
    "        if n<0 or p<0:\n",
    "            raise Exception(\"n and p should be non-negative\")\n",
    "        return n**p\n",
    "\n",
    "myCalculator=Calculator()\n",
    "T=int(input())\n",
    "for i in range(T):\n",
    "    n,p = map(int, input().split())\n",
    "    try:\n",
    "        ans=myCalculator.power(n,p)\n",
    "        print(ans)\n",
    "    except Exception as e:\n",
    "        print(e)   "
   ]
  },
  {
   "cell_type": "markdown",
   "metadata": {},
   "source": [
    "# https://www.hackerrank.com/challenges/30-queues-stacks/problem"
   ]
  },
  {
   "cell_type": "code",
   "execution_count": null,
   "metadata": {},
   "outputs": [],
   "source": [
    "import sys\n",
    "from collections import deque\n",
    "\n",
    "class Solution:\n",
    "    # Write your code here\n",
    "    def __init__(self):\n",
    "        self.stack = list()\n",
    "        self.queue = deque()\n",
    "    def pushCharacter(self,char):\n",
    "        self.stack.append(char)\n",
    "    def enqueueCharacter(self,char):\n",
    "        self.queue.append(char)\n",
    "    def popCharacter(self):\n",
    "        return self.stack.pop()\n",
    "    def dequeueCharacter(self):\n",
    "        return self.queue.popleft()\n",
    "\n",
    "# read the string s\n",
    "s=input()\n",
    "#Create the Solution class object\n",
    "obj=Solution()   \n",
    "\n",
    "l=len(s)\n",
    "# push/enqueue all the characters of string s to stack\n",
    "for i in range(l):\n",
    "    obj.pushCharacter(s[i])\n",
    "    obj.enqueueCharacter(s[i])\n",
    "    \n",
    "isPalindrome=True\n",
    "'''\n",
    "pop the top character from stack\n",
    "dequeue the first character from queue\n",
    "compare both the characters\n",
    "''' \n",
    "for i in range(l // 2):\n",
    "    if obj.popCharacter()!=obj.dequeueCharacter():\n",
    "        isPalindrome=False\n",
    "        break\n",
    "#finally print whether string s is palindrome or not.\n",
    "if isPalindrome:\n",
    "    print(\"The word, \"+s+\", is a palindrome.\")\n",
    "else:\n",
    "    print(\"The word, \"+s+\", is not a palindrome.\")    "
   ]
  },
  {
   "cell_type": "markdown",
   "metadata": {},
   "source": [
    "# https://www.hackerrank.com/challenges/30-interfaces/problem"
   ]
  },
  {
   "cell_type": "code",
   "execution_count": null,
   "metadata": {},
   "outputs": [],
   "source": [
    "class AdvancedArithmetic(object):\n",
    "    def divisorSum(n):\n",
    "        raise NotImplementedError\n",
    "\n",
    "class Calculator(AdvancedArithmetic):\n",
    "    def divisorSum(self, n):\n",
    "        if n==1:\n",
    "            return 1\n",
    "        sum = 1\n",
    "        i = 2\n",
    "        while i*2<=n:\n",
    "            if n%i ==0:\n",
    "                sum+=i\n",
    "            i+=1\n",
    "        return (sum+n)\n",
    "        \n",
    "\n",
    "n = int(input())\n",
    "my_calculator = Calculator()\n",
    "s = my_calculator.divisorSum(n)\n",
    "print(\"I implemented: \" + type(my_calculator).__bases__[0].__name__)\n",
    "print(s)"
   ]
  },
  {
   "cell_type": "markdown",
   "metadata": {},
   "source": [
    "# hackerrank.com/challenges/stockmax/problem?utm_campaign=challenge-recommendation&utm_medium=email&utm_source=24-hour-campaign"
   ]
  },
  {
   "cell_type": "code",
   "execution_count": null,
   "metadata": {},
   "outputs": [],
   "source": [
    "def stockmax(a):\n",
    "    length = len(a)\n",
    "    i = length-1\n",
    "    total = 0\n",
    "    while i>=0:\n",
    "        smt = a[i]\n",
    "        tempInx = i\n",
    "        tempSum=0\n",
    "        while (a[i]<= smt and i>=0):\n",
    "            tempSum +=a[i]\n",
    "            i-=1\n",
    "        total+= (tempInx-i)*smt-tempSum\n",
    "    return total\n",
    "    \n",
    "if __name__ == '__main__':\n",
    "    prices = list(map(int, input().rstrip().split()))\n",
    "    result = stockmax(prices)\n",
    "    print(result)"
   ]
  },
  {
   "cell_type": "markdown",
   "metadata": {},
   "source": [
    "# https://www.hackerrank.com/challenges/30-binary-search-trees/problem"
   ]
  },
  {
   "cell_type": "code",
   "execution_count": 1,
   "metadata": {},
   "outputs": [
    {
     "name": "stdout",
     "output_type": "stream",
     "text": [
      "3\n"
     ]
    }
   ],
   "source": [
    "class Node:\n",
    "    def __init__(self,data):\n",
    "        self.right=self.left=None\n",
    "        self.data = data\n",
    "class Solution:\n",
    "    def insert(self,root,data):\n",
    "        if root==None:\n",
    "            return Node(data)\n",
    "        else:\n",
    "            if data<=root.data:\n",
    "                cur=self.insert(root.left,data)\n",
    "                root.left=cur\n",
    "            else:\n",
    "                cur=self.insert(root.right,data)\n",
    "                root.right=cur\n",
    "        return root\n",
    "\n",
    "    def getHeight(self,root):\n",
    "        #Write your code here\n",
    "        #count left child roots and right child roots.\n",
    "        if root is None:  #function parameter so no need self.root\n",
    "            return -1\n",
    "        if root.left is None and root.right is None:\n",
    "            return 0\n",
    "        leftheight= self.getHeight(root.left)  #instance method so self.\n",
    "        rightheight= self.getHeight(root.right)\n",
    "        return max(leftheight,rightheight)+1\n",
    "\n",
    "\n",
    "T= 7\n",
    "myTree=Solution()\n",
    "root=None\n",
    "smt = [3,5,2,1,4,6,7]\n",
    "for i in range(T):\n",
    "    data=smt[i]\n",
    "    root=myTree.insert(root,data)\n",
    "height=myTree.getHeight(root)\n",
    "print(height)       "
   ]
  },
  {
   "cell_type": "markdown",
   "metadata": {},
   "source": [
    "# Day 23: BST Level-Order Traversal\n",
    "\n",
    "https://www.hackerrank.com/challenges/30-binary-trees/problem"
   ]
  },
  {
   "cell_type": "code",
   "execution_count": 81,
   "metadata": {},
   "outputs": [
    {
     "name": "stdout",
     "output_type": "stream",
     "text": [
      "20 9 50 15 35 62 11 44 13 "
     ]
    }
   ],
   "source": [
    "\n",
    "class Node:\n",
    "    def __init__(self,data):\n",
    "        self.right=self.left=None\n",
    "        self.data = data\n",
    "class Solution:\n",
    "    def insert(self,root,data):\n",
    "        if root==None:\n",
    "            return Node(data)\n",
    "        else:\n",
    "            if data<=root.data:\n",
    "                cur=self.insert(root.left,data)\n",
    "                root.left=cur\n",
    "            else:\n",
    "                cur=self.insert(root.right,data)\n",
    "                root.right=cur\n",
    "        return root\n",
    "\n",
    "    def levelOrder(self,root):\n",
    "        #Write your code here\n",
    "        from collections import deque\n",
    "        smt= deque()\n",
    "        pointer=deque()\n",
    "        if root.left is None and root.right is None:\n",
    "            print(root.data)\n",
    "            return\n",
    "        print(root.data,end= ' ')\n",
    "        while root is not None:\n",
    "            if root.left is not None:\n",
    "                smt.append(root.left.data)\n",
    "                pointer.append(root.left)\n",
    "            if root.right is not None:\n",
    "                smt.append(root.right.data)\n",
    "                pointer.append(root.right)\n",
    "            try:\n",
    "                root = pointer.popleft()\n",
    "            except:\n",
    "                root = None\n",
    "        for each in smt:\n",
    "            print(each, end= ' ')        \n",
    "\n",
    "T= 9\n",
    "myTree=Solution()\n",
    "root=None\n",
    "smt = [20,50,35,44,9,15,62,11,13]\n",
    "for i in range(T):\n",
    "    data=smt[i]\n",
    "    root=myTree.insert(root,data)\n",
    "myTree.levelOrder(root)\n"
   ]
  },
  {
   "cell_type": "markdown",
   "metadata": {},
   "source": [
    "# https://www.hackerrank.com/challenges/sam-and-substrings/problem?utm_campaign=challenge-recommendation&utm_medium=email&utm_source=24-hour-campaign"
   ]
  },
  {
   "cell_type": "code",
   "execution_count": null,
   "metadata": {},
   "outputs": [],
   "source": [
    "\n",
    "import math\n",
    "import os\n",
    "import random\n",
    "import re\n",
    "import sys\n",
    "\n",
    "# Complete the substrings function below.\n",
    "# Finding substrings and returning as a list\n",
    "def substrings(n):\n",
    "    temp = int(n[0])\n",
    "    summ = temp\n",
    "    for i in range(1,len(n)):\n",
    "        temp = (temp*10 + int(n[i])*(i+1))% (10**9+7)\n",
    "        summ = (summ+ temp)% (10**9+7)\n",
    "    return summ\n",
    "\n",
    "if __name__ == '__main__':\n",
    "    n = input()\n",
    "\n",
    "    result = substrings(n)\n",
    "    print(result)"
   ]
  },
  {
   "cell_type": "markdown",
   "metadata": {},
   "source": [
    "# https://www.hackerrank.com/challenges/30-linked-list-deletion/problem?h_r=email&unlock_token=eca5a1a5b37af3b24129b78b2b289592359bad4f&utm_campaign=30_days_of_code_continuous&utm_medium=email&utm_source=daily_reminder"
   ]
  },
  {
   "cell_type": "code",
   "execution_count": null,
   "metadata": {},
   "outputs": [],
   "source": [
    "class Node:\n",
    "    def __init__(self,data):\n",
    "        self.data = data\n",
    "        self.next = None \n",
    "class Solution: \n",
    "    def insert(self,head,data):\n",
    "            p = Node(data)           \n",
    "            if head==None:\n",
    "                head=p\n",
    "            elif head.next==None:\n",
    "                head.next=p\n",
    "            else:\n",
    "                start=head\n",
    "                while(start.next!=None):\n",
    "                    start=start.next\n",
    "                start.next=p\n",
    "            return head  \n",
    "    def display(self,head):\n",
    "        current = head\n",
    "        while current:\n",
    "            print(current.data,end=' ')\n",
    "            current = current.next\n",
    "\n",
    "    def removeDuplicates(self,head):\n",
    "        #Write your code here\n",
    "        if not head:\n",
    "            return None\n",
    "        temporary = []\n",
    "        current = head\n",
    "        while current:\n",
    "            if current.data not in temporary:\n",
    "                temporary.append(current.data)\n",
    "            current = current.next\n",
    "        head = None\n",
    "        for i in range(len(temporary)):\n",
    "            data  = temporary[i]\n",
    "            head = self.insert(head,data)\n",
    "        return head\n",
    "\n",
    "mylist= Solution()\n",
    "T= 6\n",
    "listt = [1,2,2,3,3,4]\n",
    "head=None\n",
    "for i in range(T):\n",
    "    data=listt[i]\n",
    "    head=mylist.insert(head,data)    \n",
    "head=mylist.removeDuplicates(head)\n",
    "mylist.display(head); "
   ]
  },
  {
   "cell_type": "markdown",
   "metadata": {},
   "source": [
    "# https://www.hackerrank.com/challenges/fibonacci-modified/problem?utm_campaign=challenge-recommendation&utm_medium=email&utm_source=24-hour-campaign"
   ]
  },
  {
   "cell_type": "code",
   "execution_count": null,
   "metadata": {},
   "outputs": [],
   "source": [
    "#!/bin/python3\n",
    "\n",
    "\n",
    "# Complete the fibonacciModified function below.\n",
    "def fibonacciModified(t1, t2, n):\n",
    "    print(t1,t2,n)\n",
    "    if n == 0:\n",
    "        return None\n",
    "    if n==1:\n",
    "        return t1\n",
    "    elif n==2:\n",
    "        return t2\n",
    "    else:\n",
    "        for i in range(3,n+1):\n",
    "            temp = t1+t2**2\n",
    "            print(temp)\n",
    "            t1,t2 = t2, temp\n",
    "        return temp\n",
    "    \n",
    "if __name__ == '__main__':\n",
    "    t1T2n = \"01\"\n",
    "    t1 = int(t1T2n[0])\n",
    "    t2 = int(t1T2n[1])\n",
    "    n = 11\n",
    "    result = fibonacciModified(t1, t2, n)\n",
    "    print(result)\n"
   ]
  },
  {
   "cell_type": "markdown",
   "metadata": {},
   "source": [
    "# https://www.hackerrank.com/challenges/30-running-time-and-complexity/problem"
   ]
  },
  {
   "cell_type": "code",
   "execution_count": null,
   "metadata": {},
   "outputs": [],
   "source": [
    "# Enter your code here. Read input from STDIN. Print output to STDOUT\n",
    "from math import sqrt\n",
    "def checkprime(n):\n",
    "    if n==1:\n",
    "        flag = 'Not prime'\n",
    "    elif n==2:\n",
    "        flag = 'Prime'\n",
    "    else:\n",
    "        if n%2==0:\n",
    "            flag= 'Not prime'\n",
    "        else:    \n",
    "            for i in range(3, int(sqrt(n))+1,2):\n",
    "                if n%i==0:\n",
    "                    flag = 'Not prime'\n",
    "                    return flag\n",
    "            flag = 'Prime'\n",
    "    return flag\n",
    "            \n",
    "if __name__=='__main__':\n",
    "    #ek = int(input())\n",
    "    ee=[1,4,9,16,25,36,49,64,81,100,121,144,169,196,225,256,289,324,361,400,441,484,529,576,625,676,729,784,841,907]\n",
    "    for i in range(30):\n",
    "        print(checkprime(ee[i]))\n"
   ]
  },
  {
   "cell_type": "markdown",
   "metadata": {},
   "source": [
    "# https://www.hackerrank.com/challenges/maxsubarray/problem?utm_campaign=challenge-recommendation&utm_medium=email&utm_source=24-hour-campaign"
   ]
  },
  {
   "cell_type": "code",
   "execution_count": null,
   "metadata": {},
   "outputs": [],
   "source": [
    "#Brute Force\n",
    "class Solution:\n",
    "    def maxSubArray(self, nums: List[int]) -> int:\n",
    "        Sum = []\n",
    "        for i in range(len(nums)):\n",
    "            Add = nums[i]\n",
    "            Sum.append(Add)\n",
    "            for j in range(i+1,len(nums)):\n",
    "                Add+= nums[j]\n",
    "                Sum.append(Add)\n",
    "        return max(Sum)"
   ]
  },
  {
   "cell_type": "code",
   "execution_count": null,
   "metadata": {},
   "outputs": [],
   "source": [
    "#Divide and conquer\n",
    "    def _f(self,nums):\n",
    "        N = len(nums)\n",
    "        #base\n",
    "        if N==1:\n",
    "            return nums[0],nums[0],nums[0],nums[0]\n",
    "        m = N//2\n",
    "        a = nums[:m] #left\n",
    "        b = nums[m:] #right\n",
    "        #getting subproblems results\n",
    "        a_sum,a_left,a_right,a_best = self._f(a)\n",
    "        b_sum,b_left,b_right,b_best = self._f(b)\n",
    "        #merging results O(1)\n",
    "        r_sum = a_sum+b_sum\n",
    "        r_left = max(a_sum+max(0,b_left),a_left)\n",
    "        r_right = max(b_sum+max(0,a_right),b_right)\n",
    "        r_best = max(r_sum,r_left,r_right,a_right+b_left,a_best,b_best)\n",
    "        #return tuple\n",
    "        return r_sum,r_left,r_right,r_best\n",
    "    \n",
    "    def maxSubArray(self, nums: List[int]) -> int:\n",
    "        return self._f(nums)[-1]"
   ]
  },
  {
   "cell_type": "code",
   "execution_count": 3,
   "metadata": {},
   "outputs": [
    {
     "name": "stdout",
     "output_type": "stream",
     "text": [
      "1\n",
      "9\n",
      "-2 1 -3 4 -1 2 1 -5 4\n",
      "6 12\n"
     ]
    }
   ],
   "source": [
    "\n",
    "# Complete the maxSubarray function below.\n",
    "def maxSubarray(arr):\n",
    "    # how to get the subarrays and subsequences\n",
    "    \n",
    "    #Subarrays:  (KADANE'S ALGORITHM)\n",
    "    untilNow=0 \n",
    "    check= 0\n",
    "    summ = 0\n",
    "    temp = 0\n",
    "    flag= False\n",
    "    for i in range(len(arr)): \n",
    "        untilNow+= arr[i]\n",
    "        if not flag:\n",
    "            if arr[i]>0:\n",
    "                flag=True\n",
    "        if untilNow<0:\n",
    "            untilNow=0\n",
    "        if check<untilNow:\n",
    "            check=untilNow\n",
    "    \n",
    "    #Subsequences:\n",
    "        temp= summ + arr[i]\n",
    "        if temp>summ:\n",
    "            summ= temp\n",
    "    if not flag:\n",
    "        check,summ = max(arr),  max(arr)\n",
    "    print(check,end=' ')\n",
    "    print(summ)\n",
    "\n",
    "    \n",
    "        \n",
    "        \n",
    "if __name__ == '__main__':\n",
    "    t = int(input())\n",
    "    for _ in range(t):\n",
    "        n = int(input())\n",
    "        arr = list(map(int, input().rstrip().split()))\n",
    "        result = maxSubarray(arr)\n"
   ]
  },
  {
   "cell_type": "code",
   "execution_count": 36,
   "metadata": {},
   "outputs": [
    {
     "data": {
      "text/plain": [
       "(6, 12)"
      ]
     },
     "execution_count": 36,
     "metadata": {},
     "output_type": "execute_result"
    }
   ],
   "source": [
    "def maxSubarray(arr):\n",
    "    #Subarrays:  (KADANE'S ALGORITHM)\n",
    "    Latest = 0\n",
    "    Max = 0\n",
    "    Sequence =[]\n",
    "    for i in range(len(arr)):\n",
    "        each = arr[i]\n",
    "        Latest+= each\n",
    "        if Latest< each:\n",
    "            Latest = each\n",
    "        if Latest > Max:\n",
    "            Max = Latest\n",
    "    #Subsequences\n",
    "        if each>0:\n",
    "            Sequence.append(each)\n",
    "    Smax = sum(Sequence)\n",
    "    if Max == 0:\n",
    "        Max = Smax = max(arr)\n",
    "    return Max, Smax\n",
    "        \n",
    "maxSubarray([-2, 1, -3, 4, -1, 2, 1, -5, 4])"
   ]
  },
  {
   "cell_type": "markdown",
   "metadata": {},
   "source": [
    "# https://www.hackerrank.com/challenges/30-testing/problem?h_r=email&unlock_token=00759d5212caa8896c479b2e97f31a4f44eb69ea&utm_campaign=30_days_of_code_continuous&utm_medium=email&utm_source=daily_reminder"
   ]
  },
  {
   "cell_type": "code",
   "execution_count": null,
   "metadata": {},
   "outputs": [],
   "source": [
    "def minimum_index(seq):\n",
    "    if len(seq) == 0:\n",
    "        raise ValueError(\"Cannot get the minimum value index from an empty sequence\")\n",
    "    min_idx = 0\n",
    "    for i in range(1, len(seq)):\n",
    "        if seq[i] < seq[min_idx]:\n",
    "            min_idx = i\n",
    "    return min_idx\n",
    "class TestDataEmptyArray(object):\n",
    "    \n",
    "    @staticmethod\n",
    "    def get_array():\n",
    "        # complete this function\n",
    "        return []\n",
    "        \n",
    "\n",
    "class TestDataUniqueValues(object):\n",
    "\n",
    "    @staticmethod\n",
    "    def get_array():\n",
    "        # complete this function\n",
    "        return [3,1,10]\n",
    "\n",
    "    @staticmethod\n",
    "    def get_expected_result():\n",
    "        # complete this function\n",
    "        return 1\n",
    "\n",
    "class TestDataExactlyTwoDifferentMinimums(object):\n",
    "\n",
    "    @staticmethod\n",
    "    def get_array():\n",
    "        # complete this function\n",
    "        return [3,2,4,1,3,1]\n",
    "\n",
    "    @staticmethod\n",
    "    def get_expected_result():\n",
    "        # complete this function\n",
    "        return 3\n",
    "\n",
    "\n",
    "def TestWithEmptyArray():\n",
    "    try:\n",
    "        seq = TestDataEmptyArray.get_array()\n",
    "        result = minimum_index(seq)\n",
    "    except ValueError as e:\n",
    "        pass\n",
    "    else:\n",
    "        assert False\n",
    "\n",
    "\n",
    "def TestWithUniqueValues():\n",
    "    seq = TestDataUniqueValues.get_array()\n",
    "    assert len(seq) >= 2\n",
    "\n",
    "    assert len(list(set(seq))) == len(seq)\n",
    "\n",
    "    expected_result = TestDataUniqueValues.get_expected_result()\n",
    "    result = minimum_index(seq)\n",
    "    assert result == expected_result\n",
    "\n",
    "\n",
    "def TestiWithExactyTwoDifferentMinimums():\n",
    "    seq = TestDataExactlyTwoDifferentMinimums.get_array()\n",
    "    assert len(seq) >= 2\n",
    "    tmp = sorted(seq)\n",
    "    assert tmp[0] == tmp[1] and (len(tmp) == 2 or tmp[1] < tmp[2])\n",
    "\n",
    "    expected_result = TestDataExactlyTwoDifferentMinimums.get_expected_result()\n",
    "    result = minimum_index(seq)\n",
    "    assert result == expected_result\n",
    "\n",
    "TestWithEmptyArray()\n",
    "TestWithUniqueValues()\n",
    "TestiWithExactyTwoDifferentMinimums()\n",
    "print(\"OK\")\n",
    "\n"
   ]
  },
  {
   "cell_type": "markdown",
   "metadata": {},
   "source": [
    "# https://www.hackerrank.com/challenges/30-regex-patterns/problem?h_r=email&unlock_token=1f3186681abf0fb9950aa97a175eb382a1a37ed4&utm_campaign=30_days_of_code_continuous&utm_medium=email&utm_source=daily_reminder"
   ]
  },
  {
   "cell_type": "code",
   "execution_count": null,
   "metadata": {},
   "outputs": [],
   "source": [
    "import math\n",
    "import os\n",
    "import random\n",
    "import re\n",
    "import sys\n",
    "\n",
    "def filterEmail(db):\n",
    "    temp =[]\n",
    "    for k,v in db.items():\n",
    "        if bool(re.search(r'@gmail\\.com$',k)):\n",
    "            temp.append(v)\n",
    "    temp.sort()\n",
    "    return temp\n",
    "\n",
    "if __name__ == '__main__':\n",
    "    database = dict()\n",
    "    smth= ['riya riya@gmail.com', 'julia julia@julia.me', 'julia sjulia@gmail.com', 'julia julia@gmail.com', 'samantha samantha@gmail.com', 'tanya tanya@gmail.com']\n",
    "    for each in smth:\n",
    "        temp = each.split()\n",
    "        database[temp[1]]= temp[0]\n",
    "    print(database)\n",
    "    print(filterEmail(database))\n",
    "        \n"
   ]
  },
  {
   "cell_type": "markdown",
   "metadata": {},
   "source": [
    "# https://www.hackerrank.com/challenges/coin-change/problem?utm_campaign=challenge-recommendation&utm_medium=email&utm_source=24-hour-campaign"
   ]
  },
  {
   "cell_type": "code",
   "execution_count": null,
   "metadata": {},
   "outputs": [],
   "source": [
    "\n",
    "# COMING BACK TO THIS!!!\n",
    "\n",
    "import math\n",
    "import os\n",
    "import random\n",
    "import re\n",
    "import sys\n",
    "\n",
    "#\n",
    "# Complete the 'getWays' function below.\n",
    "#\n",
    "# The function is expected to return a LONG_INTEGER.\n",
    "# The function accepts following parameters:\n",
    "#  1. INTEGER n\n",
    "#  2. LONG_INTEGER_ARRAY c\n",
    "#\n",
    "memoizing_dict = {}\n",
    "def getWays(n, c):\n",
    "    global memoizing_dict\n",
    "    if n < 0:\n",
    "        return 0\n",
    "    elif n == 0:\n",
    "        return 1\n",
    "    elif (n,len(c)) in memoizing_dict.keys():\n",
    "        return memoizing_dict[(n,len(c))]\n",
    "    else:\n",
    "        cum_sum = 0\n",
    "        for c_index in range(len(c)):\n",
    "            c_item = c[c_index]\n",
    "            if c_item > n:\n",
    "                continue\n",
    "            else:\n",
    "                result = getWays(n-c_item, c[c_index:])\n",
    "                if result > 0:\n",
    "                    cum_sum += result\n",
    "        memoizing_dict[(n,len(c))] = cum_sum\n",
    "        return cum_sum\n",
    "\n",
    "if __name__ == '__main__':\n",
    "    first_multiple_input = input().rstrip().split()\n",
    "    n = int(first_multiple_input[0])\n",
    "    c = list(map(int, input().rstrip().split()))\n",
    "    # Print the number of ways of making change for 'n' units using coins having the values given by 'c'\n",
    "    ways = getWays(n, c)\n",
    "    print(ways)\n"
   ]
  },
  {
   "cell_type": "markdown",
   "metadata": {},
   "source": [
    "# Eigenvalue decomposition"
   ]
  },
  {
   "cell_type": "code",
   "execution_count": null,
   "metadata": {},
   "outputs": [],
   "source": [
    "import numpy as np\n",
    "from scipy import linalg as LA\n",
    "smt=(np.array([[4,4],[4,4]]),np.array([[1,0],[0,-2]]),np.array([[1,-1],[-1,0]]))\n",
    "for one in smt:\n",
    "    e_vals, e_vecs = LA.eig(one)\n",
    "    print(one)\n",
    "    print('@@@@@@')\n",
    "    print(e_vals)\n",
    "    print('@@@@@@')\n",
    "    print(e_vecs)\n",
    "    print('******************')"
   ]
  },
  {
   "cell_type": "code",
   "execution_count": null,
   "metadata": {},
   "outputs": [],
   "source": [
    "import numpy as np\n",
    "a=np.array([[1,0],[0,1]])\n",
    "inverse = LA.inv(a)\n",
    "inverse"
   ]
  },
  {
   "cell_type": "markdown",
   "metadata": {},
   "source": [
    "# https://www.hackerrank.com/challenges/30-bitwise-and/problem?h_r=email&unlock_token=35e2ab0abad2d1c72b73cabcf02de61dd3d1c0e7&utm_campaign=30_days_of_code_continuous&utm_medium=email&utm_source=daily_reminder"
   ]
  },
  {
   "cell_type": "code",
   "execution_count": null,
   "metadata": {},
   "outputs": [],
   "source": [
    "import math\n",
    "import os\n",
    "import random\n",
    "import re\n",
    "import sys\n",
    "\n",
    "def smth(n,k):\n",
    "    temp1=0\n",
    "    for i in range(1,n+1):\n",
    "        for j in range(1,i):\n",
    "            temp2= i&j\n",
    "            if temp1<temp2<k:\n",
    "                temp1=temp2\n",
    "                if temp1 == k-1:\n",
    "                    return temp1\n",
    "    return temp1\n",
    "\n",
    "\n",
    "if __name__ == '__main__':\n",
    "    t = int(input())\n",
    "\n",
    "    for t_itr in range(t):\n",
    "        nk = input().split()\n",
    "\n",
    "        n = int(nk[0])\n",
    "\n",
    "        k = int(nk[1])\n",
    "        print(smth(n,k))\n"
   ]
  },
  {
   "cell_type": "markdown",
   "metadata": {},
   "source": [
    "# https://www.hackerrank.com/challenges/abbr/problem?utm_campaign=challenge-recommendation&utm_medium=email&utm_source=24-hour-campaign"
   ]
  },
  {
   "cell_type": "code",
   "execution_count": null,
   "metadata": {},
   "outputs": [],
   "source": [
    "# Dynamic programming (Good Example)\n",
    "\n",
    "import math\n",
    "import os\n",
    "import random\n",
    "import re\n",
    "import sys\n",
    "\n",
    "memo = set()\n",
    "possible = False\n",
    "def abbreviation(a, b):\n",
    "    global possible, memo\n",
    "    possible = False\n",
    "    memo.clear()\n",
    "    rec(a,b)\n",
    "    return \"YES\" if possible else \"NO\"\n",
    "\n",
    "def rec(a, b):\n",
    "    global possible, memo\n",
    "    if (possible or len(a) < len(b)):\n",
    "        return\n",
    "    if (len(b) == 0):\n",
    "        if (a.islower() or len(a) == 0):\n",
    "            possible = True\n",
    "        return\n",
    "    \n",
    "    t = a+'#'+b\n",
    "    if (t in memo):\n",
    "        return\n",
    "    memo.add(t);\n",
    "    \n",
    "    fc = a[0:1] # first char\n",
    "    a = a[1:]\n",
    "    if (fc.islower()):\n",
    "        rec(a,b)\n",
    "    if (fc.upper() != b[0:1]):\n",
    "        return\n",
    "    b = b[1:]\n",
    "    rec(a,b)\n",
    "    return\n",
    "\n",
    "if __name__ == '__main__':\n",
    "    a = 'HaiPyb'\n",
    "    b = 'HIPB'\n",
    "    result = abbreviation(a, b)\n",
    "    print(result)\n"
   ]
  },
  {
   "cell_type": "markdown",
   "metadata": {},
   "source": [
    "# February "
   ]
  },
  {
   "cell_type": "code",
   "execution_count": null,
   "metadata": {},
   "outputs": [],
   "source": [
    "#Plus Minus\n",
    "def plusMinus(arr):\n",
    "    npz=[0,0,0]\n",
    "    for a in arr:\n",
    "        if a==0:\n",
    "            npz[2]+=1\n",
    "        elif a>0:\n",
    "            npz[1]+=1\n",
    "        else:\n",
    "            npz[0]+=1\n",
    "    npz=[a/len(arr) for a in npz]\n",
    "    return npz\n",
    "print(plusMinus([-4, 3, -9, 0, 4, 1])) "
   ]
  },
  {
   "cell_type": "code",
   "execution_count": null,
   "metadata": {},
   "outputs": [],
   "source": [
    "# Two Sum\n",
    "\n",
    "class Solution:\n",
    "    def twoSum(self, nums, target):\n",
    "        h={}\n",
    "        for i,n in enumerate(nums):\n",
    "            remain= target-n\n",
    "            if remain in h:\n",
    "                return [h[remain],i]\n",
    "            h[n]= i\n",
    "                \n",
    "b= Solution()\n",
    "print(b.twoSum([3,2,4],6))\n",
    "            "
   ]
  },
  {
   "cell_type": "code",
   "execution_count": null,
   "metadata": {},
   "outputs": [],
   "source": [
    "nums= [3,2,4]\n",
    "for i, num in enumerate(nums):\n",
    "    print(i,num)"
   ]
  },
  {
   "cell_type": "code",
   "execution_count": null,
   "metadata": {},
   "outputs": [],
   "source": [
    "# Time Conversion\n",
    "\n",
    "def timeConversion(s):\n",
    "    #\n",
    "    b= s[-2:-1]\n",
    "    c=list(s[:-2])\n",
    "    if b=='P':\n",
    "        if int(s[:2])<12:\n",
    "            c[0]=str(1+int(c[0]))\n",
    "            c[1]=str(2+int(c[1]))\n",
    "    else:\n",
    "        if int(s[:2])==12:\n",
    "            c[0]='0'\n",
    "            c[1]= '0'\n",
    "    print(\"\".join(c))\n",
    "    #\n",
    "\n",
    "timeConversion('12:40:22AM')"
   ]
  },
  {
   "cell_type": "code",
   "execution_count": null,
   "metadata": {},
   "outputs": [],
   "source": [
    "# Climbing the Leaderboard\n",
    "\n",
    "# Complete the climbingLeaderboard function below.\n",
    "import math\n",
    "def climbingLeaderboard(scores, alice):\n",
    "    dic= {}\n",
    "    lista= []\n",
    "    rank=1\n",
    "    for one in scores:\n",
    "        if one not in dic:\n",
    "            dic[one]= rank\n",
    "            rank+= 1\n",
    "    for one in alice:\n",
    "        if one in dic:\n",
    "            lista.append(dic[one])\n",
    "        else:\n",
    "            flag=0\n",
    "            high=0\n",
    "            low= len(scores)-1\n",
    "            if one > scores[0]:\n",
    "                temp= 0\n",
    "            elif one< scores[-1]:\n",
    "                temp= -1\n",
    "                flag = +1\n",
    "            else:\n",
    "                for i in range(len(scores)//2+1):\n",
    "                    temp = int(math.ceil((low+high)/2))\n",
    "                    if one > scores[temp]:\n",
    "                        low= temp\n",
    "                        flag= 0\n",
    "                    else:\n",
    "                        high= temp\n",
    "                        flag= 1\n",
    "            lista.append(dic[scores[temp]]+flag)\n",
    "    return lista\n",
    "        \n",
    "scores= [100, 90, 90, 80, 75, 60]\n",
    "\n",
    "alice= [50, 65, 77, 90, 102]\n",
    "climbingLeaderboard(scores, alice)\n",
    "\n",
    "# Timed out for some cases."
   ]
  },
  {
   "cell_type": "code",
   "execution_count": null,
   "metadata": {},
   "outputs": [],
   "source": [
    "# I learnt from the web\n",
    "import bisect\n",
    "def climbingLeaderboard(scores, alice):\n",
    "    lista= []\n",
    "    scores=sorted(list(set(scores)))\n",
    "    aa= [bisect.bisect_right(scores, a) for a in alice] #right works for making duplicacy alright.\n",
    "    aa= [len(scores)+1-a for a in aa]\n",
    "    return aa\n",
    "\n",
    "scores= [100, 90, 90, 80, 75, 60]\n",
    "alice= [50, 65, 77, 90, 102]\n",
    "print(climbingLeaderboard(scores, alice))"
   ]
  },
  {
   "cell_type": "code",
   "execution_count": null,
   "metadata": {},
   "outputs": [],
   "source": [
    "from collections import Counter as c\n",
    "def countTriplets(arr, r):\n",
    "    howmany = c(arr)\n",
    "    count = 0\n",
    "    arr= list(set(arr))\n",
    "    arr.sort()\n",
    "    length = len(arr)\n",
    "    listing = []\n",
    "    for i in range(length-2):\n",
    "        print(i)\n",
    "        used=[i]\n",
    "        for anotherIncrease in range(i+1,length):\n",
    "            j = anotherIncrease\n",
    "            while j<length:\n",
    "                if arr[j]== r*arr[used[-1]]:\n",
    "                    used.append(j)\n",
    "                j+=1\n",
    "                if len(used)==3:\n",
    "                    if used not in listing:\n",
    "                        count+=howmany[arr[used[0]]]+howmany[arr[used[1]]]+howmany[arr[used[2]]]-2\n",
    "                        listing.append(used)\n",
    "                    used=[i]\n",
    "                    break\n",
    "    print(listing)\n",
    "    return count\n",
    "countTriplets([1, 5, 5, 25, 125],5)\n",
    "\n",
    "#Works but for small cases only."
   ]
  },
  {
   "cell_type": "code",
   "execution_count": null,
   "metadata": {},
   "outputs": [],
   "source": [
    "#Triplet counter learnt from the web\n",
    "from collections import Counter as c\n",
    "# Complete the countTriplets function below.\n",
    "def countTriplets(arr, r):\n",
    "    v2= c()\n",
    "    v3 = c()\n",
    "    count=0\n",
    "    for one in arr:\n",
    "        if one in v3:\n",
    "             count+=v3[one]\n",
    "        if one in v2:\n",
    "            v3[one*r]+=v2[one]\n",
    "        v2[one*r]+=1\n",
    "    return count\n",
    "countTriplets([1, 5, 5, 25, 125],5)"
   ]
  },
  {
   "cell_type": "code",
   "execution_count": null,
   "metadata": {},
   "outputs": [],
   "source": [
    "# Greedy Florist\n",
    "\n",
    "# Complete the getMinimumCost function below.\n",
    "def getMinimumCost(k, c):\n",
    "    c.sort()\n",
    "    sum= 0\n",
    "    for i in range(k):\n",
    "        sum+= c[-(i+1)]\n",
    "    counter= 1\n",
    "    temp =k\n",
    "    for j in range(len(c)-k-1,-1,-1):\n",
    "        sum+= c[j]*(counter+1)\n",
    "        temp-=1\n",
    "        if temp<1:\n",
    "            temp=k\n",
    "            counter+=1\n",
    "    return sum\n",
    "#print(getMinimumCost(3,[1, 3, 7, 5, 9]))    \n",
    "print(getMinimumCost(3,[390225, 426456, 688267, 800389, 990107, 439248, 240638, 15991, 874479, 568754, 729927, 980985, 132244, 488186, 5037, 721765, 251885, 28458, 23710, 281490, 30935, 897665, 768945, 337228, 533277, 959855, 927447, 941485, 24242, 684459, 312855, 716170, 512600, 608266, 779912, 950103, 211756, 665028, 642996, 262173, 789020, 932421, 390745, 433434, 350262, 463568, 668809, 305781, 815771, 550800]))\n",
    "\n",
    "#This was fairly easy but worded very badly."
   ]
  },
  {
   "cell_type": "code",
   "execution_count": null,
   "metadata": {},
   "outputs": [],
   "source": [
    "# Game of Thrones - I\n",
    "from collections import Counter\n",
    "def gameOfThrones(s):\n",
    "    count = Counter(s)\n",
    "    odd_count = 0\n",
    "    for c in count.values():\n",
    "        odd_count+= c%2\n",
    "    return odd_count in [0,1]\n",
    "gameOfThrones('cdcdcdcdeeeef')"
   ]
  },
  {
   "cell_type": "markdown",
   "metadata": {},
   "source": [
    "# Different ways to Fibonacci series"
   ]
  },
  {
   "cell_type": "code",
   "execution_count": null,
   "metadata": {},
   "outputs": [],
   "source": [
    "# Subcategory finding the Complexity or time taken\n",
    "#Example\n",
    "import matplotlib.pyplot as plt\n",
    "\n",
    "def f2(L):\n",
    "    sum = 0\n",
    "    i = 1\n",
    "    steps = 0\n",
    "    while i < len(L):\n",
    "        sum = sum + L[i]\n",
    "        i = i * 2\n",
    "        steps += 1    # track how many times the loop gets called\n",
    "    return steps\n",
    "\n",
    "def main():\n",
    "    i = range(1200)\n",
    "    f_i = [f2([1]*n) for n in i]\n",
    "    plt.plot(i, f_i)\n",
    "\n",
    "if __name__==\"__main__\":\n",
    "    main()"
   ]
  },
  {
   "cell_type": "code",
   "execution_count": null,
   "metadata": {},
   "outputs": [],
   "source": [
    "# For loop\n",
    "def fibo(n):\n",
    "    first= 0\n",
    "    second = 1\n",
    "    steps = 0\n",
    "    if n==0:\n",
    "        second = first\n",
    "        steps+=1\n",
    "    elif n==1:\n",
    "        steps+=1\n",
    "    for i in range(2,n+1):\n",
    "        second,first = second+first, second\n",
    "        steps+=1\n",
    "    print(second,end =',')\n",
    "    return steps\n",
    "\n",
    "def main():\n",
    "    i = range(32)\n",
    "    y = [fibo(a) for a in i]\n",
    "    print(y)\n",
    "    plt.plot(i, y)\n",
    "\n",
    "if __name__==\"__main__\":\n",
    "    main()"
   ]
  },
  {
   "cell_type": "code",
   "execution_count": null,
   "metadata": {},
   "outputs": [],
   "source": [
    "# Recursive method\n",
    "import operator\n",
    "def set_steps_to_zero():\n",
    "    global steps    \n",
    "    steps = []\n",
    "def fibo(n):\n",
    "    first= 0\n",
    "    second = 1\n",
    "    step = 0\n",
    "    if n==0:\n",
    "        result = first\n",
    "        step+=1\n",
    "    if n==1:\n",
    "        result = second\n",
    "        step+=1\n",
    "    if n>1:\n",
    "        result,temp_step = tuple(map(operator.add,fibo(n-1),fibo(n-2)))\n",
    "        step+=temp_step\n",
    "    return result,step\n",
    "\n",
    "def main():\n",
    "    x= range(32)\n",
    "    set_steps_to_zero()\n",
    "    for i in x:\n",
    "        a,b=fibo(i)\n",
    "        print(a,end=',')\n",
    "        steps.append(b)\n",
    "    print(steps)\n",
    "    plt.plot(x, steps)\n",
    "\n",
    "if __name__==\"__main__\":\n",
    "    main()"
   ]
  },
  {
   "cell_type": "code",
   "execution_count": 78,
   "metadata": {},
   "outputs": [
    {
     "name": "stdout",
     "output_type": "stream",
     "text": [
      "0,1,1,2,3,5,8,13,21,34,55,89,144,233,377,610,987,1597,2584,4181,6765,10946,17711,28657,46368,75025,121393,196418,317811,514229,832040,1346269,[1, 1, 2, 3, 4, 5, 6, 7, 8, 9, 10, 11, 12, 13, 14, 15, 16, 17, 18, 19, 20, 21, 22, 23, 24, 25, 26, 27, 28, 29, 30, 31]\n"
     ]
    },
    {
     "data": {
      "image/png": "[encoded data removed]",
      "text/plain": [
       "<Figure size 432x288 with 1 Axes>"
      ]
     },
     "metadata": {
      "needs_background": "light"
     },
     "output_type": "display_data"
    }
   ],
   "source": [
    "# Dynamic programming (Recursive with memoization)\n",
    "import operator\n",
    "import numpy as np\n",
    "def set_steps_to_zero():\n",
    "    global steps \n",
    "    steps = []\n",
    "def set_memory(n):\n",
    "    global memory\n",
    "    memory = np.zeros(n+1)\n",
    "def fibo(n):\n",
    "    step=0\n",
    "    if n==0:\n",
    "        step+= 1\n",
    "    elif n==1:\n",
    "        memory[n] = n\n",
    "        step+= 1\n",
    "    else:\n",
    "        if memory[n]==0:\n",
    "            memory[n],temp_step = tuple(map(operator.add,fibo(n-1),fibo(n-2)))\n",
    "            step+=temp_step\n",
    "        else:\n",
    "            step+=1\n",
    "    return memory[n],step\n",
    "\n",
    "def main():\n",
    "    x= range(32)\n",
    "    set_steps_to_zero()\n",
    "    for i in x:\n",
    "        set_memory(i)\n",
    "        a,b=fibo(i)\n",
    "        print(int(a),end=',')\n",
    "        steps.append(b)\n",
    "    print(steps)\n",
    "    plt.plot(x, steps)\n",
    "\n",
    "if __name__==\"__main__\":\n",
    "    main()"
   ]
  },
  {
   "cell_type": "code",
   "execution_count": 79,
   "metadata": {},
   "outputs": [
    {
     "name": "stdout",
     "output_type": "stream",
     "text": [
      "F(8) is 21\n"
     ]
    }
   ],
   "source": [
    "# Matrix Exponentiation\n",
    "# Python3 program to find value of f(n) \n",
    "# where f(n) is defined as \n",
    "# F(n) = F(n-1) + F(n-2), n >= 2 \n",
    "# Base Cases : \n",
    "# F(0) = 0, F(1) = 1\n",
    "\n",
    "# A utility function to multiply two \n",
    "# matrices a[][] and b[][]. Multiplication \n",
    "# result is stored back in b[][] \n",
    "def multiply(a, b): \n",
    "\t\n",
    "\t# Creating an auxiliary matrix \n",
    "\t# to store elements of the \n",
    "\t# multiplication matrix \n",
    "\tmul = [[0 for x in range(2)] \n",
    "\t\t\tfor y in range(2)]; \n",
    "\tfor i in range(2): \n",
    "\t\tfor j in range(2): \n",
    "\t\t\tmul[i][j] = 0; \n",
    "\t\t\tfor k in range(2): \n",
    "\t\t\t\tmul[i][j] += a[i][k] * b[k][j]; \n",
    "\n",
    "\t# storing the multiplication \n",
    "\t# result in a[][] \n",
    "\tfor i in range(2): \n",
    "\t\tfor j in range(2): \n",
    "\t\t\ta[i][j] = mul[i][j]; # Updating our matrix \n",
    "\treturn a; \n",
    "\n",
    "# Function to compute F raise \n",
    "# to power n-2. \n",
    "def power(F, n): \n",
    "\n",
    "\tM = [[1, 1], [1, 0]]; \n",
    "\n",
    "\t# Multiply it with initial values i.e \n",
    "\t# with F(0) = 0, F(1) = 1\n",
    "\tif (n == 1): \n",
    "\t\treturn F[0][0] + F[0][1]; \n",
    "\n",
    "\tpower(F, int(n / 2)); \n",
    "\n",
    "\tF = multiply(F, F); \n",
    "\n",
    "\tif (n % 2 != 0): \n",
    "\t\tF = multiply(F, M); \n",
    "\n",
    "\t# Multiply it with initial values i.e \n",
    "\t# with F(0) = 0, F(1) = 1, F(2) = 1 \n",
    "\treturn F[0][0] + F[0][1]; \n",
    "\n",
    "# Return n'th term of a series defined \n",
    "# using below recurrence relation. \n",
    "# f(n) is defined as \n",
    "# f(n) = f(n-1) + f(n-2) + f(n-3), n>=3 \n",
    "# Base Cases : \n",
    "# f(0) = 0, f(1) = 1, f(2) = 1 \n",
    "def findNthTerm(n): \n",
    "\tF = [[1, 1], [1, 0]]; \n",
    "\n",
    "\treturn power(F, n-2); \n",
    "\n",
    "# Driver code \n",
    "n = 8; \n",
    "\n",
    "print(\"F(%d) is\"%(n),findNthTerm(n)); \n",
    "\n",
    "# This code is contributed by mits \n"
   ]
  },
  {
   "cell_type": "code",
   "execution_count": 67,
   "metadata": {},
   "outputs": [
    {
     "name": "stdout",
     "output_type": "stream",
     "text": [
      "If there was a birth every 7 second, there would be 5 births.\n"
     ]
    }
   ],
   "source": [
    "0 1 1 2 3 5 8 13 21"
   ]
  },
  {
   "cell_type": "markdown",
   "metadata": {},
   "source": [
    "# String --> Substring"
   ]
  },
  {
   "cell_type": "code",
   "execution_count": null,
   "metadata": {},
   "outputs": [],
   "source": [
    "# Python3 code to demonstrate working of \n",
    "# Get all substrings of string \n",
    "# Using list comprehension + string slicing \n",
    "  \n",
    "# initializing string  \n",
    "test_str = \"Geeks\"\n",
    "  \n",
    "# printing original string  \n",
    "print(\"The original string is : \" + str(test_str)) \n",
    "  \n",
    "# Get all substrings of string \n",
    "# Using list comprehension + string slicing \n",
    "res = [test_str[i: j] for i in range(len(test_str)) \n",
    "          for j in range(i + 1, len(test_str) + 1)] \n",
    "  \n",
    "# printing result  \n",
    "print(\"All substrings of string are : \" + str(res)) "
   ]
  },
  {
   "cell_type": "code",
   "execution_count": null,
   "metadata": {},
   "outputs": [],
   "source": [
    "# Two Strings\n",
    "#Given two strings, determine if they share a common substring.\n",
    "\n",
    "def twoStrings(s1, s2):\n",
    "    res1 = [s1[i: j] for i in range(len(s1)) \n",
    "          for j in range(i + 1, len(s1) + 1)] \n",
    "    r1= set(res1)\n",
    "    res2 = [s2[i: j] for i in range(len(s2)) \n",
    "          for j in range(i + 1, len(s2) + 1)] \n",
    "    r2= set(res2)\n",
    "    if len(r1&r2)>0:\n",
    "        return 'Yes'\n",
    "    else:\n",
    "        return 'No'\n",
    "twoStrings('hello', 'world')\n",
    "\n",
    "# This could be done pretty easily with just comparing each letters in the string"
   ]
  },
  {
   "cell_type": "code",
   "execution_count": 44,
   "metadata": {},
   "outputs": [
    {
     "name": "stdout",
     "output_type": "stream",
     "text": [
      "15\n"
     ]
    }
   ],
   "source": [
    "# A string is said to be a special string if either of two conditions is met:\n",
    "#All of the characters are the same, e.g. aaa.\n",
    "#All characters except the middle one are the same, e.g. aadaa.\n",
    "\n",
    "from collections import Counter as c\n",
    "def substrCount(s):\n",
    "    res = [s[i: j] for i in range(len(s)) \n",
    "          for j in range(i + 2, len(s) + 1)] \n",
    "    add = 0\n",
    "    for each in res:\n",
    "        if len(each)%2==0:\n",
    "            if len(c(each))==1:\n",
    "                add+=1\n",
    "        else:\n",
    "            temp= len(each)//2\n",
    "            each1= each[:temp]+each[temp+1:]\n",
    "            if len(c(each1))==1:\n",
    "                add+=1\n",
    "    total= add+len(s)\n",
    "    return total\n",
    "print(substrCount('ffaffaddef'))\n",
    "\n",
    "#Too much memory consumed for this algorithm"
   ]
  },
  {
   "cell_type": "code",
   "execution_count": 36,
   "metadata": {},
   "outputs": [
    {
     "name": "stdout",
     "output_type": "stream",
     "text": [
      "('ff', 'f')\n",
      "*******************\n",
      "f\n",
      "f\n",
      "d\n",
      "15\n"
     ]
    }
   ],
   "source": [
    "# Again but using RegeX\n",
    "import re\n",
    "def triangular_number(n):\n",
    "      return (pow(n,2)+n)//2\n",
    "def substrCount(s):\n",
    "    count = len(s)\n",
    "\n",
    "    exp1 = r'(([a-z])\\2*)(?!\\1)(?=[a-z]\\1)'\n",
    "    m = re.finditer(exp1,s)\n",
    "    n= re.findall(exp1,s)\n",
    "    for x in n:\n",
    "        print(x)\n",
    "    count += sum([len(x.group(0)) for x in m])\n",
    "\n",
    "    exp2 = r'([a-z])\\1+'\n",
    "    m = re.finditer(exp2,s)\n",
    "    n= re.findall(exp2,s)\n",
    "    print('*******************')\n",
    "    for x in n:\n",
    "        print(x)\n",
    "    count += sum([triangular_number(len(x.group(0))-1) for x in m])\n",
    "\n",
    "    return count\n",
    "print(substrCount('ffaffaddef'))\n",
    "\n",
    "#This is hard to understand"
   ]
  },
  {
   "cell_type": "code",
   "execution_count": 53,
   "metadata": {},
   "outputs": [
    {
     "name": "stdout",
     "output_type": "stream",
     "text": [
      "15\n"
     ]
    }
   ],
   "source": [
    "#This is best use of logic\n",
    "def SubstrCount(n,s):\n",
    "    count= n\n",
    "    for i in range(n):\n",
    "        for j in range(i+1,n):\n",
    "            print(s[i],s[j])\n",
    "            print(s[i:j],s[j+1:2*j-i+1])\n",
    "            if s[i]== s[j]:\n",
    "                count+=1\n",
    "            elif s[i:j]==s[j+1:2*j-i+1]:\n",
    "                count+=1\n",
    "                break\n",
    "            else:\n",
    "                break\n",
    "    return count\n",
    "print(substrCount(10,'ffaffaddef'))"
   ]
  },
  {
   "cell_type": "code",
   "execution_count": 127,
   "metadata": {},
   "outputs": [
    {
     "name": "stdout",
     "output_type": "stream",
     "text": [
      "4\n"
     ]
    }
   ],
   "source": [
    "# Making Anagrams\n",
    "from collections import Counter as c\n",
    "def makingAnagrams(s1, s2):\n",
    "    c1= c(s1)\n",
    "    c2= c(s2)\n",
    "    common= c1&c2\n",
    "    c1-=common\n",
    "    c2-=common\n",
    "    return sum(c1.values())+sum(c2.values())\n",
    "print(makingAnagrams('cde', 'abc'))\n",
    "\n",
    "#This is easy"
   ]
  },
  {
   "cell_type": "code",
   "execution_count": 101,
   "metadata": {},
   "outputs": [
    {
     "name": "stdout",
     "output_type": "stream",
     "text": [
      "112 119 62 108\n",
      "42 83 98 114\n",
      "56 49 15 43\n",
      "125 56 78 101\n",
      "414\n"
     ]
    }
   ],
   "source": [
    "# Flipping the Matrix\n",
    "# Flipping(reversing) matrix over single row or column to find the maximizing second quartile sum.\n",
    "\n",
    "def flippingMatrix(matrix):\n",
    "    n = len(matrix)//2\n",
    "    sum= 0\n",
    "    for i in range(n):\n",
    "        for j in range(n):\n",
    "            print(matrix[i][j],matrix[i][2*n-1-j],matrix[2*n-1-i][j],matrix[2*n-1-i][2*n-1-j])\n",
    "            sum+= max(matrix[i][j],matrix[i][2*n-1-j],matrix[2*n-1-i][j],matrix[2*n-1-i][2*n-1-j])\n",
    "    return sum\n",
    "print(flippingMatrix([[112, 42, 83, 119],\n",
    "[56, 125, 56, 49],\n",
    "[15, 78, 101, 43],\n",
    "[62, 98, 114, 108]]))\n",
    "\n",
    "# How is this done? Done by finding a pattern...."
   ]
  },
  {
   "cell_type": "code",
   "execution_count": 107,
   "metadata": {},
   "outputs": [
    {
     "name": "stdout",
     "output_type": "stream",
     "text": [
      "3\n"
     ]
    }
   ],
   "source": [
    "# Jumping on the Clouds\n",
    "# Determine the minimum number of jumps it will take Emma to jump from her starting postion to the last cloud. It is \n",
    "# always possible to win the game.\n",
    "def jumpingOnClouds(c):\n",
    "    jumps= 0\n",
    "    i=1\n",
    "    while i<len(c):\n",
    "        try:\n",
    "            if c[i+1]==0 and c[i]==0:\n",
    "                jumps+=1\n",
    "                i+= 2\n",
    "            elif c[i+1]!=0:\n",
    "                jumps+=2\n",
    "                i+= 3\n",
    "            else:\n",
    "                jumps+=1\n",
    "                i+=2\n",
    "        except:\n",
    "            jumps+=1\n",
    "            break\n",
    "    return jumps\n",
    "            \n",
    "print(jumpingOnClouds([0, 0, 0, 1, 0, 0]))\n",
    "\n",
    "#I got this to work through pattern recognition"
   ]
  },
  {
   "cell_type": "code",
   "execution_count": 4,
   "metadata": {},
   "outputs": [
    {
     "name": "stdout",
     "output_type": "stream",
     "text": [
      "deque([5, 1, 2, 3, 4])\n",
      "deque([5, 1, 2, 3, 4])\n"
     ]
    }
   ],
   "source": [
    "# Arrays: Left Rotation\n",
    "from collections import deque\n",
    "def rotLeft(a, d):\n",
    "    a= deque(a)\n",
    "    a.rotate(-d)\n",
    "    print(a)\n",
    "    return a\n",
    "print(rotLeft([1,2,3,4,5],4))"
   ]
  },
  {
   "cell_type": "markdown",
   "metadata": {},
   "source": [
    "# Array Manipulation\n",
    "https://www.hackerrank.com/challenges/crush/problem?h_l=interview&playlist_slugs%5B%5D=interview-preparation-kit&playlist_slugs%5B%5D=arrays"
   ]
  },
  {
   "cell_type": "code",
   "execution_count": 14,
   "metadata": {},
   "outputs": [
    {
     "data": {
      "text/plain": [
       "200.0"
      ]
     },
     "execution_count": 14,
     "metadata": {},
     "output_type": "execute_result"
    }
   ],
   "source": [
    "# Array Manipulation\n",
    "\n",
    "import numpy as np\n",
    "def arrayManipulation(n, queries):\n",
    "    array = np.zeros(n)\n",
    "    for each in queries:\n",
    "        low = each[0]-1\n",
    "        high = each[1]-1\n",
    "        value = each[2]\n",
    "        for i in range(low,high+1):\n",
    "            array[i]+= value\n",
    "    return max(array)\n",
    "arrayManipulation(5,[[1, 2, 100], [2, 5, 100], [3, 4, 100]])\n",
    "\n",
    "# Time Complexity"
   ]
  },
  {
   "cell_type": "code",
   "execution_count": 21,
   "metadata": {},
   "outputs": [
    {
     "data": {
      "text/plain": [
       "200"
      ]
     },
     "execution_count": 21,
     "metadata": {},
     "output_type": "execute_result"
    }
   ],
   "source": [
    "#Let's try to find the most repeated index and the sum of values attached to it.\n",
    "import numpy as np\n",
    "\n",
    "def arrayManipulation(n, queries):\n",
    "    index = dict()\n",
    "    for each in queries:\n",
    "        for i in range(each[0]-1,each[1]):\n",
    "            if i in index:\n",
    "                index[i]+= each[2]\n",
    "            else:\n",
    "                index[i]= each[2]\n",
    "    return max(index.values())\n",
    "\n",
    "arrayManipulation(5,[[1, 2, 100], [2, 5, 100], [3, 4, 100]])\n",
    "\n",
    "# It says heavier inputs results in wrong output."
   ]
  },
  {
   "cell_type": "code",
   "execution_count": 28,
   "metadata": {},
   "outputs": [
    {
     "data": {
      "text/plain": [
       "200"
      ]
     },
     "execution_count": 28,
     "metadata": {},
     "output_type": "execute_result"
    }
   ],
   "source": [
    "# AS learnt from the discussion\n",
    "\n",
    "def arrayManipulation(n, queries):\n",
    "    array = [0]*(n+1)\n",
    "    for each in queries:\n",
    "        low = each[0]-1\n",
    "        high = each[1]\n",
    "        value = each[2]\n",
    "        array[low]+= value\n",
    "        array[high]-= value\n",
    "    maximum = x = 0\n",
    "    for i in array:\n",
    "        x+=i\n",
    "        if x>maximum:\n",
    "            maximum= x\n",
    "    return maximum\n",
    "        \n",
    "arrayManipulation(5,[[1, 2, 100], [2, 5, 100], [3, 4, 100]])\n",
    "\n",
    "# It saved writing space and time"
   ]
  },
  {
   "cell_type": "markdown",
   "metadata": {},
   "source": [
    "# Minimum Swaps 2\n",
    "\n",
    "https://www.hackerrank.com/challenges/minimum-swaps-2/problem?h_l=interview&playlist_slugs%5B%5D=interview-preparation-kit&playlist_slugs%5B%5D=arrays"
   ]
  },
  {
   "cell_type": "code",
   "execution_count": 50,
   "metadata": {},
   "outputs": [
    {
     "name": "stdout",
     "output_type": "stream",
     "text": [
      "4\n"
     ]
    }
   ],
   "source": [
    "def minimumSwaps(arr):\n",
    "    steps = 0\n",
    "    arr1= sorted(arr)\n",
    "    i=0\n",
    "    while i<len(arr)-1:\n",
    "        if arr1[i]!= arr[i]:\n",
    "            steps+=1\n",
    "            indX = arr.index(arr1[i])\n",
    "            # Swapping\n",
    "            arr[i],arr[indX]= arr[indX],arr[i]\n",
    "        i+=1\n",
    "    return(steps)\n",
    "# n = int(input())\n",
    "# arr = list(map(int, input().split()))\n",
    "# print(arr)\n",
    "arr =[7, 3, 2, 4, 5, 6]\n",
    "print(minimumSwaps(arr))\n",
    "\n",
    "# Time limit exceeded but mine does work even if there is not 1."
   ]
  },
  {
   "cell_type": "code",
   "execution_count": 55,
   "metadata": {},
   "outputs": [
    {
     "name": "stdout",
     "output_type": "stream",
     "text": [
      "[6, 1, 3, 2, 4, 5, 7]\n",
      "[5, 1, 3, 2, 4, 6, 7]\n",
      "[4, 1, 3, 2, 5, 6, 7]\n",
      "[2, 1, 3, 4, 5, 6, 7]\n",
      "[1, 2, 3, 4, 5, 6, 7]\n",
      "5\n"
     ]
    }
   ],
   "source": [
    "# let's solve the problem again assuming there is absolutely gurantee that there is 1\n",
    "def minimumSwaps(arr):\n",
    "    steps = 0\n",
    "    i=0\n",
    "    while i<len(arr)-1:\n",
    "        if arr[i]!= i+1:\n",
    "            steps+=1\n",
    "            wrong= arr[i]\n",
    "            # Swapping as we know that it should be at indexed ( its value -1)\n",
    "            arr[i],arr[wrong-1]= arr[wrong-1],arr[i]\n",
    "            print(arr)\n",
    "        else:\n",
    "            i+=1\n",
    "    return(steps)\n",
    "arr =[7, 1, 3, 2, 4, 5, 6]\n",
    "print(minimumSwaps(arr))\n"
   ]
  },
  {
   "cell_type": "code",
   "execution_count": 57,
   "metadata": {},
   "outputs": [
    {
     "name": "stdout",
     "output_type": "stream",
     "text": [
      "[6, 3, 2, 4, 5, 7]\n",
      "[5, 3, 2, 4, 6, 7]\n",
      "[4, 3, 2, 5, 6, 7]\n",
      "[2, 3, 4, 5, 6, 7]\n",
      "4\n"
     ]
    }
   ],
   "source": [
    "# The same solution but with or without 1.\n",
    "def minimumSwaps(arr):\n",
    "    steps = 0\n",
    "    i=0\n",
    "    miN = min(arr)\n",
    "    while i<len(arr)-1+miN-1:\n",
    "        if arr[i]!= i+miN:\n",
    "            steps+=1\n",
    "            wrong= arr[i]\n",
    "            # Swapping as we know that it should be at indexed ( its value -1)\n",
    "            arr[i],arr[wrong-miN]= arr[wrong-miN],arr[i]\n",
    "            print(arr)\n",
    "        else:\n",
    "            i+=1\n",
    "    return(steps)\n",
    "arr =[7, 3, 2, 4, 5, 6]\n",
    "print(minimumSwaps(arr))\n",
    "\n",
    "# Noice//"
   ]
  },
  {
   "cell_type": "markdown",
   "metadata": {},
   "source": [
    "# 3Sum - Leetcode\n",
    "https://leetcode.com/problems/3sum/"
   ]
  },
  {
   "cell_type": "code",
   "execution_count": 17,
   "metadata": {},
   "outputs": [
    {
     "name": "stdout",
     "output_type": "stream",
     "text": [
      "[[-1, 0, 1], [-1, -1, 2]]\n"
     ]
    }
   ],
   "source": [
    "class Solution:\n",
    "    def threeSum(self, nums):\n",
    "        total = []\n",
    "        for i in range(len(nums)):\n",
    "            a= i+1\n",
    "            while a< len(nums)-1:\n",
    "                b= a+1\n",
    "                while b< len(nums):\n",
    "                    temp = [nums[i], nums[a], nums[b]]\n",
    "                    if sum(temp)== 0:\n",
    "                        temp.sort()\n",
    "                        if temp not in total:\n",
    "                            total.append(temp)\n",
    "                    b+=1\n",
    "                a+=1\n",
    "        return total\n",
    "example = Solution()\n",
    "print(example.threeSum([-1, 0, 1, 2, -1, -4]))\n",
    "\n",
    "# Time limit exceeded"
   ]
  },
  {
   "cell_type": "code",
   "execution_count": 19,
   "metadata": {},
   "outputs": [
    {
     "name": "stdout",
     "output_type": "stream",
     "text": [
      "[]\n"
     ]
    }
   ],
   "source": [
    "class Solution:\n",
    "    def threeSum(self, nums):\n",
    "        #sorting makes it requiring less computation\n",
    "        nums.sort()\n",
    "        total = set()\n",
    "        for i in range(len(nums)):\n",
    "            if i>0 and nums[i]==nums[i-1]:\n",
    "                continue\n",
    "            A= nums[i]\n",
    "            b= i+1\n",
    "            while b< len(nums)-1:\n",
    "                last= len(nums)-1\n",
    "                B= nums[b]\n",
    "                C= 0-A-B\n",
    "                # Now lets try to find C in nums\n",
    "                if C<B:\n",
    "                    break\n",
    "                while b< len(nums) and last> b+1 and nums[last]> C:\n",
    "                    last-=1\n",
    "                if nums[last]== C:\n",
    "                    total.add((A,B,C))\n",
    "                b+=1\n",
    "        return list(total)\n",
    "example = Solution()\n",
    "print(example.threeSum([1, 2, -2, -1]))\n",
    "\n",
    "# Still time limit exceeding but passed 100 more cases. "
   ]
  },
  {
   "cell_type": "markdown",
   "metadata": {},
   "source": [
    "# Tree: Preorder Traversal\n",
    "https://www.hackerrank.com/challenges/tree-preorder-traversal/problem?utm_campaign=challenge-recommendation&utm_medium=email&utm_source=24-hour-campaign\n"
   ]
  },
  {
   "cell_type": "code",
   "execution_count": 15,
   "metadata": {},
   "outputs": [
    {
     "name": "stdout",
     "output_type": "stream",
     "text": [
      "6\n",
      "1 2 5 6 7 3 \n",
      "the output is\n",
      "[1, 2, 5, 3, 6, 7]\n"
     ]
    }
   ],
   "source": [
    "class Node:\n",
    "    def __init__(self, info): \n",
    "        self.info = info  \n",
    "        self.left = None  \n",
    "        self.right = None \n",
    "        self.level = None \n",
    "\n",
    "    def __str__(self):\n",
    "        return str(self.info) \n",
    "\n",
    "class BinarySearchTree:\n",
    "    def __init__(self): \n",
    "        self.root = None\n",
    "\n",
    "    def create(self, val):  \n",
    "        if self.root == None:\n",
    "            self.root = Node(val)\n",
    "        else:\n",
    "            current = self.root\n",
    "         \n",
    "            while True:\n",
    "                if val < current.info:\n",
    "                    if current.left:\n",
    "                        current = current.left\n",
    "                    else:\n",
    "                        current.left = Node(val)\n",
    "                        break\n",
    "                elif val > current.info:\n",
    "                    if current.right:\n",
    "                        current = current.right\n",
    "                    else:\n",
    "                        current.right = Node(val)\n",
    "                        break\n",
    "                else:\n",
    "                    break\n",
    "\n",
    "\"\"\"\n",
    "Node is defined as\n",
    "self.left (the left child of the node)\n",
    "self.right (the right child of the node)\n",
    "self.info (the value of the node)\n",
    "\"\"\"\n",
    "def preOrder(root):\n",
    "    #Write your code here\n",
    "    arr =[]\n",
    "    retrn1=[] \n",
    "    retrn2=[]\n",
    "    while True:\n",
    "        if root:\n",
    "            arr.append(root.info)\n",
    "            if root.left or root.right: \n",
    "                retrn1 = preOrder(root.left)\n",
    "                retrn2= preOrder(root.right)\n",
    "            else: \n",
    "                break\n",
    "        arr+= retrn1\n",
    "        arr+= retrn2\n",
    "        break\n",
    "    #return ' '.join([str(i) for i in arr])\n",
    "    return arr\n",
    "    \n",
    "\n",
    "\n",
    "tree = BinarySearchTree()\n",
    "t = int(input())\n",
    "\n",
    "arr = list(map(int, input().split()))\n",
    "\n",
    "for i in range(t):\n",
    "    tree.create(arr[i])\n",
    "\n",
    "a = preOrder(tree.root)\n",
    "print('the output is')\n",
    "print(a)"
   ]
  },
  {
   "cell_type": "markdown",
   "metadata": {},
   "source": [
    "# Minimum Distances\n",
    "https://www.hackerrank.com/challenges/minimum-distances/problem?utm_campaign=challenge-recommendation&utm_medium=email&utm_source=24-hour-campaign"
   ]
  },
  {
   "cell_type": "code",
   "execution_count": 21,
   "metadata": {},
   "outputs": [
    {
     "data": {
      "text/plain": [
       "3"
      ]
     },
     "execution_count": 21,
     "metadata": {},
     "output_type": "execute_result"
    }
   ],
   "source": [
    "def minimumDistances(a):\n",
    "    Dict = dict()\n",
    "    Min = len(a)\n",
    "    for i in range(len(a)):\n",
    "        try:\n",
    "            Min= min(i-Dict[a[i]],Min)\n",
    "        except:\n",
    "            Dict[a[i]]=i\n",
    "    if Min == len(a):\n",
    "        return -1\n",
    "    else:\n",
    "        return Min\n",
    "    \n",
    "minimumDistances([7, 1, 3, 4, 1, 7])\n",
    "\n",
    "#This is better with O(n)"
   ]
  },
  {
   "cell_type": "markdown",
   "metadata": {},
   "source": [
    "# Letter Combinations of a Phone Number"
   ]
  },
  {
   "cell_type": "code",
   "execution_count": 56,
   "metadata": {},
   "outputs": [
    {
     "name": "stdout",
     "output_type": "stream",
     "text": [
      "['ad', 'ae', 'af', 'bd', 'be', 'bf', 'cd', 'ce', 'cf']\n"
     ]
    }
   ],
   "source": [
    "class Solution:\n",
    "    def letterCombinations(self, digits):\n",
    "        Dict = {'2':['a','b','c'],'3':['d','e','f'],'4':['g','h','i'], '5':['j','k','l'],'6':['m','n','o'],'7':['p','q','r','s'],'8':['t','u','v'],'9':['w','x','y','z']}\n",
    "        if len(digits)==0:\n",
    "            return None\n",
    "        else:\n",
    "            return self.split(digits, Dict)\n",
    "    def split(self, s, dic):\n",
    "        if len(s)>1:\n",
    "            d = int((len(s)-1)/2)\n",
    "            return self.mult( self.split(s[:d+1],dic), self.split(s[d+1:],dic))\n",
    "        else:\n",
    "            return dic[s]\n",
    "    def mult(self, s1, s2):\n",
    "        return [i1+i2 for i1 in s1 for i2 in s2]\n",
    "\n",
    "        \n",
    "        \n",
    "A= Solution()\n",
    "print(A.letterCombinations('23'))\n",
    "\n",
    "#Something is going on here.haha."
   ]
  },
  {
   "cell_type": "markdown",
   "metadata": {},
   "source": [
    "# Degree of an Array\n",
    "https://leetcode.com/problems/degree-of-an-array/"
   ]
  },
  {
   "cell_type": "code",
   "execution_count": 65,
   "metadata": {},
   "outputs": [
    {
     "name": "stdout",
     "output_type": "stream",
     "text": [
      "6\n"
     ]
    }
   ],
   "source": [
    "from collections import Counter as C\n",
    "class Solution:\n",
    "    def findShortestSubArray(self, nums):\n",
    "        Repeat = C(nums)\n",
    "        Max = max(Repeat.values())\n",
    "        Onlymax= {}\n",
    "        [Onlymax.update({k:v}) for k,v in Repeat.items() if v== Max]\n",
    "        #Intialize the counter\n",
    "        Counter= {}\n",
    "        for each in nums:\n",
    "            if each in Onlymax:\n",
    "                #Counter starts\n",
    "                try:\n",
    "                    Counter[each]+=1\n",
    "                except:\n",
    "                    Counter[each]= 1\n",
    "                Onlymax[each]-= 1\n",
    "    \n",
    "            for one in Onlymax:\n",
    "                if Onlymax[one]!=0 and each!= one:\n",
    "                    try:\n",
    "                        Counter[one]+=1\n",
    "                    except:\n",
    "                        continue\n",
    "        return min(Counter.values())\n",
    "Cl = Solution\n",
    "print(Cl.findShortestSubArray(None,[1,2,2,3,1,4,2]))\n",
    "\n",
    "#Here I realized you can access the index from a list. So, below is the simple and fast solution"
   ]
  },
  {
   "cell_type": "code",
   "execution_count": 79,
   "metadata": {},
   "outputs": [
    {
     "data": {
      "text/plain": [
       "6"
      ]
     },
     "execution_count": 79,
     "metadata": {},
     "output_type": "execute_result"
    }
   ],
   "source": [
    "import collections\n",
    "def findShortestSubArray(nums):\n",
    "    Repeat = collections.Counter(nums)\n",
    "    OnlyMax = [k for k,v in Repeat.items() if v==max(Repeat.values())]\n",
    "    Return = len(nums)\n",
    "    for each in OnlyMax:\n",
    "        initial = nums.index(each)\n",
    "        final = len(nums)-nums[::-1].index(each)\n",
    "        Return = min(Return, final-initial)\n",
    "    return Return\n",
    "findShortestSubArray([1,2,2,3,1,4,2])\n",
    "\n",
    "# I also leant that if i dont use k,v and .items() its a lot faster.\n",
    "# Also take care of boundary conditions."
   ]
  },
  {
   "cell_type": "code",
   "execution_count": 80,
   "metadata": {},
   "outputs": [],
   "source": [
    "def findShortestSubArray(nums):\n",
    "\n",
    "    Repeat = collections.Counter(nums)\n",
    "    Max= max(Repeat.values())\n",
    "    OnlyMax = [k for k in Repeat if Repeat[k]==Max]\n",
    "    if Max==1:\n",
    "        return 1\n",
    "    Return = len(nums)\n",
    "    for each in OnlyMax:\n",
    "        initial = nums.index(each)\n",
    "        final = len(nums)-nums[::-1].index(each)\n",
    "        Return = min(Return, final-initial)\n",
    "    return Return     "
   ]
  },
  {
   "cell_type": "markdown",
   "metadata": {},
   "source": [
    "# Average of levels of Binary Tree\n",
    "https://leetcode.com/problems/average-of-levels-in-binary-tree/"
   ]
  },
  {
   "cell_type": "code",
   "execution_count": 89,
   "metadata": {},
   "outputs": [
    {
     "data": {
      "text/plain": [
       "[3, 5.0, 5.0]"
      ]
     },
     "execution_count": 89,
     "metadata": {},
     "output_type": "execute_result"
    }
   ],
   "source": [
    "from collections import deque\n",
    "class Node:\n",
    "    def __init__(self,data):\n",
    "        self.right=self.left=None\n",
    "        self.data = data\n",
    "class Solution:\n",
    "    def insert(self,root,data):\n",
    "        if root==None:\n",
    "            return Node(data)\n",
    "        else:\n",
    "            if data<=root.data:\n",
    "                cur=self.insert(root.left,data)\n",
    "                root.left=cur\n",
    "            else:\n",
    "                cur=self.insert(root.right,data)\n",
    "                root.right=cur\n",
    "        return root\n",
    "    \n",
    "    def averageOfLevels(self, root):\n",
    "        # I think the way to go is to do breadth first search\n",
    "        \n",
    "        Return = [root.data]\n",
    "        pointer=deque()\n",
    "        pointer.append(root)\n",
    "        while len(pointer)!=0:\n",
    "            Temp = deque()\n",
    "            count = 0\n",
    "            Sum = 0\n",
    "            root = pointer.popleft()\n",
    "            while root is not None:\n",
    "                if root.left is not None:\n",
    "                    Sum+= root.left.data\n",
    "                    count+=1\n",
    "                    Temp.append(root.left)\n",
    "                if root.right is not None:\n",
    "                    Sum+= root.right.data\n",
    "                    count+=1\n",
    "                    Temp.append(root.right)\n",
    "                try:\n",
    "                    root = pointer.popleft()\n",
    "                except:\n",
    "                    root = None\n",
    "            try:\n",
    "                Return.append(Sum/count)\n",
    "            except:\n",
    "                continue\n",
    "            pointer=Temp.copy()\n",
    "                \n",
    "        return Return\n",
    "\n",
    "T= 6\n",
    "myTree=Solution()\n",
    "root=None\n",
    "smt = [3,2,8,1,4,10]\n",
    "#[3,5,5]\n",
    "for i in range(T):\n",
    "    data=smt[i]\n",
    "    root=myTree.insert(root,data)\n",
    "myTree.averageOfLevels(root)\n",
    "\n",
    "        "
   ]
  },
  {
   "cell_type": "markdown",
   "metadata": {},
   "source": [
    "# Move Zeroes\n",
    "https://leetcode.com/explore/challenge/card/30-day-leetcoding-challenge/528/week-1/3286/"
   ]
  },
  {
   "cell_type": "code",
   "execution_count": 115,
   "metadata": {},
   "outputs": [
    {
     "name": "stdout",
     "output_type": "stream",
     "text": [
      "[1, 3, 13, 0, 0, 0]\n"
     ]
    }
   ],
   "source": [
    "def moveZeroes(nums):\n",
    "    \"\"\"\n",
    "    Do not return anything, modify nums in-place instead.\n",
    "    \"\"\"\n",
    "    count= 0\n",
    "    i=0\n",
    "    while i<len(nums):\n",
    "        if nums[i]==0:\n",
    "            nums.remove(nums[i])\n",
    "            count+=1\n",
    "        else:\n",
    "            i+=1\n",
    "    [nums.append(0) for _ in range(count)]\n",
    "    return nums\n",
    "\n",
    "print(moveZeroes([1, 0,0, 3, 0,13]))"
   ]
  },
  {
   "cell_type": "code",
   "execution_count": 114,
   "metadata": {},
   "outputs": [
    {
     "name": "stdout",
     "output_type": "stream",
     "text": [
      "[1, 3, 13, 0, 0, 0]\n"
     ]
    }
   ],
   "source": [
    "# There is something called two pointer method\n",
    "def moveZeroes(nums):\n",
    "    swap1=swap2=0\n",
    "    while swap2<len(nums):\n",
    "        if nums[swap1]==0 and nums[swap2]!=0:\n",
    "            nums[swap1], nums[swap2]= nums[swap2],nums[swap1]\n",
    "        if nums[swap1]!=0:\n",
    "            swap1+=1\n",
    "        swap2+=1\n",
    "    return nums\n",
    "print(moveZeroes([1,0,0,3,0,13]))"
   ]
  },
  {
   "cell_type": "markdown",
   "metadata": {},
   "source": [
    "# Best time to buy and sell stocks\n",
    "https://leetcode.com/explore/challenge/card/30-day-leetcoding-challenge/528/week-1/3287/"
   ]
  },
  {
   "cell_type": "code",
   "execution_count": 126,
   "metadata": {},
   "outputs": [
    {
     "data": {
      "text/plain": [
       "0"
      ]
     },
     "execution_count": 126,
     "metadata": {},
     "output_type": "execute_result"
    }
   ],
   "source": [
    "class Solution:\n",
    "    def maxProfit(self, prices):\n",
    "        #check if the trend is going up. If not close the deal\n",
    "        #lets try two pointer method\n",
    "        low=0\n",
    "        high=1\n",
    "        profit=0\n",
    "        while high<len(prices):\n",
    "            if prices[high-1]<prices[high]:\n",
    "                high+=1\n",
    "            else:\n",
    "                diff= prices[high-1]-prices[low]\n",
    "                if diff>0:\n",
    "                    profit+= diff\n",
    "                low=high\n",
    "                high+=1\n",
    "        # Boundary conditions when input is []\n",
    "        try:\n",
    "            profit+=prices[high-1]-prices[low]\n",
    "        except:\n",
    "            pass\n",
    "            \n",
    "        return profit\n",
    "\n",
    "Smth = Solution()\n",
    "Smth.maxProfit([])"
   ]
  },
  {
   "cell_type": "markdown",
   "metadata": {},
   "source": [
    "# Group Anagram\n",
    "https://leetcode.com/explore/challenge/card/30-day-leetcoding-challenge/528/week-1/3288/"
   ]
  },
  {
   "cell_type": "code",
   "execution_count": 147,
   "metadata": {},
   "outputs": [
    {
     "data": {
      "text/plain": [
       "[['', '', ''], ['v']]"
      ]
     },
     "execution_count": 147,
     "metadata": {},
     "output_type": "execute_result"
    }
   ],
   "source": [
    "import collections\n",
    "class Solution:\n",
    "    def groupAnagrams(self, strs):\n",
    "        Final = []\n",
    "        i=0\n",
    "        while i < len(strs):\n",
    "            Group = [strs[i]]\n",
    "            Each = collections.Counter(strs[i])\n",
    "            j=i+1\n",
    "            while j<len(strs):\n",
    "                Check = collections.Counter(strs[j])\n",
    "                if Each == Check:\n",
    "                    Group.append(strs[j])\n",
    "                    strs.pop(j)\n",
    "                else:\n",
    "                    j+=1\n",
    "            i+=1\n",
    "            Final.append(Group)\n",
    "        return Final\n",
    "Smth = Solution()\n",
    "#Smth.groupAnagrams([\"bat\",\"eat\", \"tea\", \"tan\", \"ate\", \"nat\"])\n",
    "Smth.groupAnagrams([\"\",\"v\",\"\",\"\"])\n",
    "#O(n^2) time taken, Let's see following example with new understanding of dictionary for strings"
   ]
  },
  {
   "cell_type": "code",
   "execution_count": 152,
   "metadata": {},
   "outputs": [
    {
     "data": {
      "text/plain": [
       "[['bat'], ['eat', 'tea', 'ate'], ['tan', 'nat']]"
      ]
     },
     "execution_count": 152,
     "metadata": {},
     "output_type": "execute_result"
    }
   ],
   "source": [
    "class Solution:\n",
    "    def groupAnagrams(self, strs):\n",
    "        Dict ={}\n",
    "        for each in strs:\n",
    "            Sorted = ''.join(sorted(each))\n",
    "            if Sorted in Dict:\n",
    "                Dict[Sorted].append(each)\n",
    "            else:\n",
    "                Dict[Sorted] = [each]\n",
    "        return list(Dict.values())\n",
    "Smth = Solution()\n",
    "Smth.groupAnagrams([\"bat\",\"eat\", \"tea\", \"tan\", \"ate\", \"nat\"])\n",
    "#Smth.groupAnagrams([\"\",\"v\",\"\",\"\"])"
   ]
  },
  {
   "cell_type": "markdown",
   "metadata": {},
   "source": [
    "# Counting Elements\n",
    "https://leetcode.com/explore/challenge/card/30-day-leetcoding-challenge/528/week-1/3289/"
   ]
  },
  {
   "cell_type": "code",
   "execution_count": 186,
   "metadata": {},
   "outputs": [
    {
     "name": "stdout",
     "output_type": "stream",
     "text": [
      "Counter({2: 2, 1: 1})\n",
      "Counter({3: 2, 2: 1})\n",
      "Counter({2: 1})\n"
     ]
    },
    {
     "data": {
      "text/plain": [
       "1"
      ]
     },
     "execution_count": 186,
     "metadata": {},
     "output_type": "execute_result"
    }
   ],
   "source": [
    "from collections import Counter as c\n",
    "class Solution:\n",
    "    def countElements(self, arr):\n",
    "        arr1=[a+1 for a in arr]\n",
    "        Dict= Counter(arr)\n",
    "        print(Dict)\n",
    "        Dict1= Counter(arr1)\n",
    "        print(Dict1)\n",
    "        Common= Dict & Dict1\n",
    "        print(Common)\n",
    "        Sum= sum([Dict1[each] for each in Common])\n",
    "        return Sum\n",
    "smt= Solution()\n",
    "smt.countElements([2,1,2])\n",
    "\n",
    "#correct"
   ]
  },
  {
   "cell_type": "markdown",
   "metadata": {},
   "source": [
    "# generate all combinations of N items\n",
    "https://courses.edx.org/courses/course-v1:MITx+6.00.2x+1T2020/courseware/8d9a47872ed641a1ace050f1c1ba7ac7/4cb0675623054111a9ff05e30712f7e2/?activate_block_id=block-v1%3AMITx%2B6.00.2x%2B1T2020%2Btype%40sequential%2Bblock%404cb0675623054111a9ff05e30712f7e2"
   ]
  },
  {
   "cell_type": "code",
   "execution_count": 217,
   "metadata": {},
   "outputs": [],
   "source": [
    "# generate all combinations of N items\n",
    "def powerSet(items):\n",
    "    N = len(items)\n",
    "    # enumerate the 2**N possible combinations\n",
    "    for i in range(2**N):\n",
    "        combo = []\n",
    "        for j in range(N):\n",
    "            # test bit jth of integer i\n",
    "            if (i >> j) % 2 == 1:\n",
    "                combo.append(items[j])\n",
    "        yield combo"
   ]
  },
  {
   "cell_type": "code",
   "execution_count": 198,
   "metadata": {},
   "outputs": [
    {
     "name": "stdout",
     "output_type": "stream",
     "text": [
      "[[], ['first'], ['second'], ['first', 'second'], ['third'], ['first', 'third'], ['second', 'third'], ['first', 'second', 'third']]\n"
     ]
    }
   ],
   "source": [
    "print(list(powerSet(['first','second','third'])))"
   ]
  },
  {
   "cell_type": "code",
   "execution_count": 221,
   "metadata": {},
   "outputs": [],
   "source": [
    "   \n",
    "def yieldAllCombos(s):\n",
    "    for b1 in powerSet(s):\n",
    "        for b2 in powerSet([e for e in s if e not in b1]):\n",
    "            yield (b1, b2)"
   ]
  },
  {
   "cell_type": "code",
   "execution_count": 225,
   "metadata": {},
   "outputs": [],
   "source": [
    "def yieldAllCombos(items):\n",
    "    \"\"\"\n",
    "        Generates all combinations of N items into two bags, whereby each \n",
    "        item is in one or zero bags.\n",
    "\n",
    "        Yields a tuple, (bag1, bag2), where each bag is represented as a list \n",
    "        of which item(s) are in each bag.\n",
    "    \"\"\"\n",
    "    # Your code here\n",
    "    for bag1 in powerSet(items):\n",
    "        for bag2 in powerSet([items2 for items2 in items if items2 not in bag1]):\n",
    "            yield(bag1,bag2)"
   ]
  },
  {
   "cell_type": "code",
   "execution_count": 226,
   "metadata": {},
   "outputs": [
    {
     "name": "stdout",
     "output_type": "stream",
     "text": [
      "[([], []), ([], ['first']), ([], ['second']), ([], ['first', 'second']), ([], ['third']), ([], ['first', 'third']), ([], ['second', 'third']), ([], ['first', 'second', 'third']), (['first'], []), (['first'], ['second']), (['first'], ['third']), (['first'], ['second', 'third']), (['second'], []), (['second'], ['first']), (['second'], ['third']), (['second'], ['first', 'third']), (['first', 'second'], []), (['first', 'second'], ['third']), (['third'], []), (['third'], ['first']), (['third'], ['second']), (['third'], ['first', 'second']), (['first', 'third'], []), (['first', 'third'], ['second']), (['second', 'third'], []), (['second', 'third'], ['first']), (['first', 'second', 'third'], [])]\n"
     ]
    }
   ],
   "source": [
    "print(list(yieldAllCombos(['first','second','third'])))"
   ]
  },
  {
   "cell_type": "code",
   "execution_count": 227,
   "metadata": {},
   "outputs": [
    {
     "name": "stdout",
     "output_type": "stream",
     "text": [
      "[([], []), (['first'], []), ([], ['first']), (['second'], []), (['first', 'second'], []), (['second'], ['first']), ([], ['second']), (['first'], ['second']), ([], ['first', 'second']), (['third'], []), (['first', 'third'], []), (['third'], ['first']), (['second', 'third'], []), (['first', 'second', 'third'], []), (['second', 'third'], ['first']), (['third'], ['second']), (['first', 'third'], ['second']), (['third'], ['first', 'second']), ([], ['third']), (['first'], ['third']), ([], ['first', 'third']), (['second'], ['third']), (['first', 'second'], ['third']), (['second'], ['first', 'third']), ([], ['second', 'third']), (['first'], ['second', 'third']), ([], ['first', 'second', 'third'])]\n"
     ]
    }
   ],
   "source": [
    "# generate all combinations of N items\n",
    "# def trinaryC(x):\n",
    "#     Trinary = ''\n",
    "#     while x>0:\n",
    "#         temp = x%3\n",
    "#         x=x//3\n",
    "#         Trinary += str(temp)\n",
    "#     return int(Trinary[::-1])\n",
    "def rightshift(i,j):\n",
    "    return i//3**j\n",
    "trinaryC(7)\n",
    "def powerSet(items):\n",
    "    N = len(items)\n",
    "    # enumerate the 2**N possible combinations\n",
    "    for i in range(3**N):\n",
    "        bag1 = []\n",
    "        bag2 = []\n",
    "        for j in range(N):\n",
    "            # test bit jth of integer i\n",
    "            if rightshift(i,j) % 3 == 1:\n",
    "                bag1.append(items[j])\n",
    "            elif rightshift(i,j) % 3 ==2:\n",
    "                bag2.append(items[j])\n",
    "        yield (bag1,bag2)\n",
    "print(list(powerSet(['first','second','third'])))"
   ]
  },
  {
   "cell_type": "code",
   "execution_count": null,
   "metadata": {},
   "outputs": [],
   "source": []
  },
  {
   "cell_type": "code",
   "execution_count": null,
   "metadata": {},
   "outputs": [],
   "source": []
  },
  {
   "cell_type": "code",
   "execution_count": 229,
   "metadata": {},
   "outputs": [
    {
     "name": "stdout",
     "output_type": "stream",
     "text": [
      "Boston->Providence\n",
      "Boston->New York\n",
      "Providence->Boston\n",
      "Providence->New York\n",
      "New York->Chicago\n",
      "Chicago->Denver\n",
      "Denver->Phoenix\n",
      "Denver->New York\n",
      "Los Angeles->Boston\n"
     ]
    }
   ],
   "source": [
    "# -*- coding: utf-8 -*-\n",
    "\"\"\"\n",
    "Created on Tue Jul 12 15:04:56 2016\n",
    "\n",
    "@author: guttag\n",
    "\"\"\"\n",
    "\n",
    "class Node(object):\n",
    "    def __init__(self, name):\n",
    "        \"\"\"Assumes name is a string\"\"\"\n",
    "        self.name = name\n",
    "    def getName(self):\n",
    "        return self.name\n",
    "    def __str__(self):\n",
    "        return self.name\n",
    "\n",
    "class Edge(object):\n",
    "    def __init__(self, src, dest):\n",
    "        \"\"\"Assumes src and dest are nodes\"\"\"\n",
    "        self.src = src\n",
    "        self.dest = dest\n",
    "    def getSource(self):\n",
    "        return self.src\n",
    "    def getDestination(self):\n",
    "        return self.dest\n",
    "    def __str__(self):\n",
    "        return self.src.getName() + '->' + self.dest.getName()\n",
    "               \n",
    "class Digraph(object):\n",
    "    \"\"\"edges is a dict mapping each node to a list of\n",
    "    its children\"\"\"\n",
    "    def __init__(self):\n",
    "        self.edges = {}\n",
    "    def addNode(self, node):\n",
    "        if node in self.edges:\n",
    "            raise ValueError('Duplicate node')\n",
    "        else:\n",
    "            self.edges[node] = []\n",
    "    def addEdge(self, edge):\n",
    "        src = edge.getSource()\n",
    "        dest = edge.getDestination()\n",
    "        if not (src in self.edges and dest in self.edges):\n",
    "            raise ValueError('Node not in graph')\n",
    "        self.edges[src].append(dest)\n",
    "    def childrenOf(self, node):\n",
    "        return self.edges[node]\n",
    "    def hasNode(self, node):\n",
    "        return node in self.edges\n",
    "    def getNode(self, name):\n",
    "        for n in self.edges:\n",
    "            if n.getName() == name:\n",
    "                return n\n",
    "        raise NameError(name)\n",
    "    def __str__(self):\n",
    "        result = ''\n",
    "        for src in self.edges:\n",
    "            for dest in self.edges[src]:\n",
    "                result = result + src.getName() + '->'\\\n",
    "                         + dest.getName() + '\\n'\n",
    "        return result[:-1] #omit final newline\n",
    "\n",
    "class Graph(Digraph):\n",
    "    def addEdge(self, edge):\n",
    "        Digraph.addEdge(self, edge)\n",
    "        rev = Edge(edge.getDestination(), edge.getSource())\n",
    "        Digraph.addEdge(self, rev)\n",
    "\n",
    "    \n",
    "def buildCityGraph(graphType):\n",
    "    g = graphType()\n",
    "    for name in ('Boston', 'Providence', 'New York', 'Chicago',\n",
    "                 'Denver', 'Phoenix', 'Los Angeles'): #Create 7 nodes\n",
    "        g.addNode(Node(name))\n",
    "    g.addEdge(Edge(g.getNode('Boston'), g.getNode('Providence')))\n",
    "    g.addEdge(Edge(g.getNode('Boston'), g.getNode('New York')))\n",
    "    g.addEdge(Edge(g.getNode('Providence'), g.getNode('Boston')))\n",
    "    g.addEdge(Edge(g.getNode('Providence'), g.getNode('New York')))\n",
    "    g.addEdge(Edge(g.getNode('New York'), g.getNode('Chicago')))\n",
    "    g.addEdge(Edge(g.getNode('Chicago'), g.getNode('Denver')))\n",
    "    g.addEdge(Edge(g.getNode('Denver'), g.getNode('Phoenix')))\n",
    "    g.addEdge(Edge(g.getNode('Denver'), g.getNode('New York')))\n",
    "    g.addEdge(Edge(g.getNode('Los Angeles'), g.getNode('Boston')))\n",
    "    return g\n",
    "    \n",
    "print(buildCityGraph(Digraph))\n"
   ]
  },
  {
   "cell_type": "code",
   "execution_count": 231,
   "metadata": {},
   "outputs": [
    {
     "name": "stdout",
     "output_type": "stream",
     "text": [
      "Current DFS path: Boston\n",
      "Current DFS path: Boston->Providence\n",
      "Already visited Boston\n",
      "Current DFS path: Boston->Providence->New York\n",
      "Current DFS path: Boston->Providence->New York->Chicago\n",
      "Current DFS path: Boston->Providence->New York->Chicago->Phoenix\n",
      "Current DFS path: Boston->Providence->New York->Chicago->Denver\n",
      "Already visited New York\n",
      "Current DFS path: Boston->New York\n",
      "Current DFS path: Boston->New York->Chicago\n",
      "Current DFS path: Boston->New York->Chicago->Phoenix\n",
      "Current DFS path: Boston->New York->Chicago->Denver\n",
      "Already visited New York\n",
      "Shortest path from Boston to Phoenix is Boston->New York->Chicago->Phoenix\n",
      "Current BFS path: Boston\n",
      "Current BFS path: Boston->Providence\n",
      "Current BFS path: Boston->New York\n",
      "Current BFS path: Boston->Providence->New York\n",
      "Current BFS path: Boston->New York->Chicago\n",
      "Current BFS path: Boston->Providence->New York->Chicago\n",
      "Current BFS path: Boston->New York->Chicago->Phoenix\n",
      "Shortest path from Boston to Phoenix is Boston->New York->Chicago->Phoenix\n"
     ]
    }
   ],
   "source": [
    "# -*- coding: utf-8 -*-\n",
    "\"\"\"\n",
    "Created on Tue Jul 12 15:04:56 2016\n",
    "\n",
    "@author: guttag\n",
    "\"\"\"\n",
    "\n",
    "class Node(object):\n",
    "    def __init__(self, name):\n",
    "        \"\"\"Assumes name is a string\"\"\"\n",
    "        self.name = name\n",
    "    def getName(self):\n",
    "        return self.name\n",
    "    def __str__(self):\n",
    "        return self.name\n",
    "\n",
    "class Edge(object):\n",
    "    def __init__(self, src, dest):\n",
    "        \"\"\"Assumes src and dest are nodes\"\"\"\n",
    "        self.src = src\n",
    "        self.dest = dest\n",
    "    def getSource(self):\n",
    "        return self.src\n",
    "    def getDestination(self):\n",
    "        return self.dest\n",
    "    def __str__(self):\n",
    "        return self.src.getName() + '->' + self.dest.getName()\n",
    "               \n",
    "class Digraph(object):\n",
    "    \"\"\"edges is a dict mapping each node to a list of\n",
    "    its children\"\"\"\n",
    "    def __init__(self):\n",
    "        self.edges = {}\n",
    "    def addNode(self, node):\n",
    "        if node in self.edges:\n",
    "            raise ValueError('Duplicate node')\n",
    "        else:\n",
    "            self.edges[node] = []\n",
    "    def addEdge(self, edge):\n",
    "        src = edge.getSource()\n",
    "        dest = edge.getDestination()\n",
    "        if not (src in self.edges and dest in self.edges):\n",
    "            raise ValueError('Node not in graph')\n",
    "        self.edges[src].append(dest)\n",
    "    def childrenOf(self, node):\n",
    "        return self.edges[node]\n",
    "    def hasNode(self, node):\n",
    "        return node in self.edges\n",
    "    def getNode(self, name):\n",
    "        for n in self.edges:\n",
    "            if n.getName() == name:\n",
    "                return n\n",
    "        raise NameError(name)\n",
    "    def __str__(self):\n",
    "        result = ''\n",
    "        for src in self.edges:\n",
    "            for dest in self.edges[src]:\n",
    "                result = result + src.getName() + '->'\\\n",
    "                         + dest.getName() + '\\n'\n",
    "        return result[:-1] #omit final newline\n",
    "\n",
    "class Graph(Digraph):\n",
    "    def addEdge(self, edge):\n",
    "        Digraph.addEdge(self, edge)\n",
    "        rev = Edge(edge.getDestination(), edge.getSource())\n",
    "        Digraph.addEdge(self, rev)\n",
    "    \n",
    "def buildCityGraph(graphType):\n",
    "    g = graphType()\n",
    "    for name in ('Boston', 'Providence', 'New York', 'Chicago',\n",
    "                 'Denver', 'Phoenix', 'Los Angeles'): #Create 7 nodes\n",
    "        g.addNode(Node(name))\n",
    "    g.addEdge(Edge(g.getNode('Boston'), g.getNode('Providence')))\n",
    "    g.addEdge(Edge(g.getNode('Boston'), g.getNode('New York')))\n",
    "    g.addEdge(Edge(g.getNode('Providence'), g.getNode('Boston')))\n",
    "    g.addEdge(Edge(g.getNode('Providence'), g.getNode('New York')))\n",
    "    g.addEdge(Edge(g.getNode('New York'), g.getNode('Chicago')))\n",
    "    g.addEdge(Edge(g.getNode('Chicago'), g.getNode('Phoenix')))\n",
    "    g.addEdge(Edge(g.getNode('Chicago'), g.getNode('Denver')))\n",
    "    g.addEdge(Edge(g.getNode('Denver'), g.getNode('Phoenix')))\n",
    "    g.addEdge(Edge(g.getNode('Denver'), g.getNode('New York')))\n",
    "    g.addEdge(Edge(g.getNode('Los Angeles'), g.getNode('Boston')))\n",
    "    return g\n",
    "\n",
    "\n",
    "def printPath(path):\n",
    "    \"\"\"Assumes path is a list of nodes\"\"\"\n",
    "    result = ''\n",
    "    for i in range(len(path)):\n",
    "        result = result + str(path[i])\n",
    "        if i != len(path) - 1:\n",
    "            result = result + '->'\n",
    "    return result \n",
    "\n",
    "def DFS(graph, start, end, path, shortest, toPrint = False):\n",
    "    \"\"\"Assumes graph is a Digraph; start and end are nodes;\n",
    "          path and shortest are lists of nodes\n",
    "       Returns a shortest path from start to end in graph\"\"\"\n",
    "    path = path + [start]\n",
    "    if toPrint:\n",
    "        print('Current DFS path:', printPath(path))\n",
    "    if start == end:\n",
    "        return path\n",
    "    for node in graph.childrenOf(start):\n",
    "        if node not in path: #avoid cycles\n",
    "            if shortest == None or len(path) < len(shortest):\n",
    "                newPath = DFS(graph, node, end, path, shortest,\n",
    "                              toPrint)\n",
    "                if newPath != None:\n",
    "                    shortest = newPath\n",
    "        elif toPrint:\n",
    "            print('Already visited', node)\n",
    "    return shortest\n",
    "    \n",
    "def shortestPath(graph, start, end, toPrint = False):\n",
    "    \"\"\"Assumes graph is a Digraph; start and end are nodes\n",
    "       Returns a shortest path from start to end in graph\"\"\"\n",
    "    return DFS(graph, start, end, [], None, toPrint)\n",
    "\n",
    "def testSP(source, destination):\n",
    "    g = buildCityGraph(Digraph)\n",
    "    sp = shortestPath(g, g.getNode(source), g.getNode(destination),\n",
    "                      toPrint = True)\n",
    "    if sp != None:\n",
    "        print('Shortest path from', source, 'to',\n",
    "              destination, 'is', printPath(sp))\n",
    "    else:\n",
    "        print('There is no path from', source, 'to', destination)\n",
    "\n",
    "#testSP('Chicago', 'Boston')\n",
    "testSP('Boston', 'Phoenix')\n",
    "\n",
    "def BFS(graph, start, end, toPrint = False):\n",
    "    \"\"\"Assumes graph is a Digraph; start and end are nodes\n",
    "       Returns a shortest path from start to end in graph\"\"\"\n",
    "    initPath = [start]\n",
    "    pathQueue = [initPath]\n",
    "    while len(pathQueue) != 0:\n",
    "        #Get and remove oldest element in pathQueue\n",
    "        tmpPath = pathQueue.pop(0)\n",
    "        if toPrint:\n",
    "            print('Current BFS path:', printPath(tmpPath))\n",
    "        lastNode = tmpPath[-1]\n",
    "        if lastNode == end:\n",
    "            return tmpPath\n",
    "        for nextNode in graph.childrenOf(lastNode):\n",
    "            if nextNode not in tmpPath:\n",
    "                newPath = tmpPath + [nextNode]\n",
    "                pathQueue.append(newPath)\n",
    "    return None\n",
    "\n",
    "def shortestPath(graph, start, end, toPrint = False):\n",
    "    \"\"\"Assumes graph is a Digraph; start and end are nodes\n",
    "       Returns a shortest path from start to end in graph\"\"\"\n",
    "    return BFS(graph, start, end, toPrint)\n",
    "    \n",
    "testSP('Boston', 'Phoenix')\n",
    "    "
   ]
  },
  {
   "cell_type": "markdown",
   "metadata": {},
   "source": [
    "# Google sample interview question\n",
    "https://leetcode.com/problems/word-ladder/submissions/"
   ]
  },
  {
   "cell_type": "code",
   "execution_count": 7,
   "metadata": {},
   "outputs": [
    {
     "data": {
      "text/plain": [
       "0"
      ]
     },
     "execution_count": 7,
     "metadata": {},
     "output_type": "execute_result"
    }
   ],
   "source": [
    "# My original solution\n",
    "class Solution:\n",
    "    def ladderLength(self, beginWord,endWord,wordList):\n",
    "        Count = 1\n",
    "        Visited = [beginWord]\n",
    "        if endWord not in wordList:\n",
    "            return 0\n",
    "        all = 'abcdefghijklmnopqrstuvwxyz'\n",
    "        j=0\n",
    "        while j<len(all):\n",
    "            one = all[j]\n",
    "            #print(one)\n",
    "            i=0\n",
    "            while i<len(beginWord):\n",
    "                if beginWord[:i]+beginWord[i+1:]==endWord[:i]+endWord[i+1:]:\n",
    "                    Count+=1\n",
    "                    return Count\n",
    "                if one!= beginWord[i] and  beginWord[:i]+one+beginWord[i+1:] in wordList and beginWord[:i]+one+beginWord[i+1:] not in Visited:\n",
    "                    Count+=1\n",
    "                    beginWord = beginWord[:i]+one+beginWord[i+1:]\n",
    "                    Visited.append(beginWord)\n",
    "                    #print(beginWord)\n",
    "                    j=-1\n",
    "                    break\n",
    "                i+=1\n",
    "            if beginWord == endWord:\n",
    "                return Count\n",
    "            j+=1\n",
    "        return 0\n",
    "        \n",
    "S = Solution()\n",
    "beginWord='hot'\n",
    "endWord=\"dog\"\n",
    "wordList=[\"hot\",\"dog\"]\n",
    "S.ladderLength(beginWord, endWord, wordList)\n",
    "# Not work with all cases and too time consuming"
   ]
  },
  {
   "cell_type": "code",
   "execution_count": 18,
   "metadata": {},
   "outputs": [
    {
     "data": {
      "text/plain": [
       "0"
      ]
     },
     "execution_count": 18,
     "metadata": {},
     "output_type": "execute_result"
    }
   ],
   "source": [
    "# After reviewing notes from the seminar and seeing relevance with binary search tree\n",
    "from collections import deque\n",
    "import string\n",
    "class Solution:\n",
    "    def ladderLength(self, beginWord, endWord, wordList):\n",
    "        if endWord not in wordList:\n",
    "            return 0\n",
    "        #initialize queue with the beginWord and count\n",
    "        Return = deque([(beginWord, 1)])\n",
    "        alphabet = string.ascii_lowercase\n",
    "        #see how appending is different in set\n",
    "        visited = set(beginWord)\n",
    "        while Return:\n",
    "            beginWord, Count = Return.popleft()\n",
    "            if beginWord== endWord:\n",
    "                return Count\n",
    "            for each in alphabet:\n",
    "                for j in range(len(beginWord)):\n",
    "                    temp = beginWord[:j]+each+beginWord[j+1:]\n",
    "                    if each!= beginWord[j] and  temp in wordList and temp not in visited:\n",
    "                        visited.add(temp)\n",
    "                        Return.append((temp,Count+1))\n",
    "                    if endWord in visited:\n",
    "                        return Count+1\n",
    "        return 0\n",
    "                        \n",
    "                \n",
    "S = Solution()\n",
    "beginword='hot'\n",
    "endWord=\"dog\"\n",
    "wordList=[\"hot\",\"dog\"]\n",
    "S.ladderLength(beginWord, endWord, wordList)\n",
    "# This should work but takes longer time."
   ]
  },
  {
   "cell_type": "code",
   "execution_count": 19,
   "metadata": {},
   "outputs": [
    {
     "data": {
      "text/plain": [
       "2"
      ]
     },
     "execution_count": 19,
     "metadata": {},
     "output_type": "execute_result"
    }
   ],
   "source": [
    "# What kids are calling it as bidirectional BFS\n",
    "class Solution:\n",
    "    def ladderLength(self, beginWord, endWord, wordList):\n",
    "        if endWord not in wordList:\n",
    "            return 0\n",
    "        hs = set(wordList)\n",
    "        fwd, bwd = {beginWord}, {endWord}\n",
    "        n=len(beginWord)\n",
    "        res = 0\n",
    "        visited = set()\n",
    "        \n",
    "        while fwd and bwd:\n",
    "            res += 1\n",
    "            if len(fwd) > len(bwd):\n",
    "                fwd, bwd = bwd, fwd\n",
    "            temp = set()\n",
    "            for word in fwd:\n",
    "                if word in visited:\n",
    "                    continue\n",
    "                for i in range(n):\n",
    "                    arr = list(word)\n",
    "                    for j in range(97,123):\n",
    "                        c = chr(j)\n",
    "                        arr[i] = c\n",
    "                        checkWord = ''.join(arr)\n",
    "                        if checkWord in bwd:\n",
    "                            return res + 1\n",
    "                        if checkWord in hs:\n",
    "                            temp.add(checkWord)\n",
    "                visited.add(word)\n",
    "            fwd = temp\n",
    "        return 0\n",
    "    \n",
    "S = Solution()\n",
    "beginWord='a'\n",
    "endWord=\"c\"\n",
    "wordList=[\"a\",\"b\",\"c\",\"d\",]\n",
    "S.ladderLength(beginWord, endWord, wordList)\n",
    "        \n"
   ]
  },
  {
   "cell_type": "markdown",
   "metadata": {},
   "source": [
    "# Diameter of Binary Tree\n",
    "https://leetcode.com/explore/featured/card/30-day-leetcoding-challenge/529/week-2/3293/"
   ]
  },
  {
   "cell_type": "code",
   "execution_count": 20,
   "metadata": {},
   "outputs": [
    {
     "name": "stdout",
     "output_type": "stream",
     "text": [
      "6\n"
     ]
    }
   ],
   "source": [
    "# Run time was high but passed\n",
    "class Node:\n",
    "    def __init__(self,data):\n",
    "        self.right=self.left=None\n",
    "        self.data = data\n",
    "class Solution:\n",
    "    def __init__(self):\n",
    "        self.Sum = {0}\n",
    "    def insert(self,root,data):\n",
    "        if root==None:\n",
    "            return Node(data)\n",
    "        else:\n",
    "            if data<=root.data:\n",
    "                cur=self.insert(root.left,data)\n",
    "                root.left=cur\n",
    "            else:\n",
    "                cur=self.insert(root.right,data)\n",
    "                root.right=cur\n",
    "        return root\n",
    "\n",
    "    def getHeight(self,root):\n",
    "        #Write your code here\n",
    "        #count left child roots and right child roots.\n",
    "        if root is None:  #function parameter so no need self.root\n",
    "            return -1\n",
    "        if root.left is None and root.right is None:\n",
    "            return 0\n",
    "        leftheight= self.getHeight(root.left)  #instance method so self.\n",
    "        rightheight= self.getHeight(root.right)\n",
    "        self.Sum.add(leftheight+rightheight+2)\n",
    "        return max(leftheight,rightheight)+1\n",
    "    def diameterOfBinaryTree(self, root):\n",
    "        self.getHeight(root)\n",
    "        return max(self.Sum)\n",
    "\n",
    "T= 9\n",
    "myTree=Solution()\n",
    "root=None\n",
    "smt = [3,5,2,4,6,4.5,4.75,7,8]\n",
    "for i in range(T):\n",
    "    data=smt[i]\n",
    "    root=myTree.insert(root,data)\n",
    "height=myTree.diameterOfBinaryTree(root)\n",
    "print(height)       "
   ]
  },
  {
   "cell_type": "markdown",
   "metadata": {},
   "source": [
    "# Contiguous Array\n",
    "https://leetcode.com/explore/featured/card/30-day-leetcoding-challenge/529/week-2/3298/"
   ]
  },
  {
   "cell_type": "code",
   "execution_count": 92,
   "metadata": {},
   "outputs": [],
   "source": [
    "class Solution:\n",
    "    def findMaxLength(self, nums):\n",
    "        increase=[]\n",
    "        cummulative = [(0,0)]\n",
    "        first = True\n",
    "        for each in nums:\n",
    "            if each>0:\n",
    "                increase.append((0,1))\n",
    "                cummulative.append((cummulative[-1][0],cummulative[-1][1]+1))\n",
    "            else:\n",
    "                increase.append((1,0))\n",
    "                cummulative.append((cummulative[-1][0]+1,cummulative[-1][1]))\n",
    "            if first:\n",
    "                cummulative.remove((0,0))\n",
    "                first = False\n",
    "        for i in range(1,len(cummulative)):\n",
    "            pass\n",
    "S= Solution()\n",
    "S.findMaxLength([1,1,1,0,0,1,0,0,1,1,0,0,1,1,])\n",
    "#S.findMaxLength([1, 1, 1, 1 , 0, 1, 1, 1, 0, 1, 1, 0])\n",
    "# I couldn't figure out myself"
   ]
  },
  {
   "cell_type": "code",
   "execution_count": 95,
   "metadata": {},
   "outputs": [
    {
     "data": {
      "text/plain": [
       "12"
      ]
     },
     "execution_count": 95,
     "metadata": {},
     "output_type": "execute_result"
    }
   ],
   "source": [
    "def findMaxLength( nums):\n",
    "    #Initialization\n",
    "    counter = 0\n",
    "    countdict = {0:-1} #since we start from 0 index\n",
    "    Max = 0\n",
    "    for i,v in enumerate(nums):\n",
    "        #check if it is 1. if yes +1 else -1. This can be done using the computation\n",
    "        counter+= 2*v-1\n",
    "        if counter in countdict: # the dictionary helps to find out where the crossing happening i.e. when 0 is seen\n",
    "            Max = max(Max,i-countdict[counter]) #\n",
    "        else:\n",
    "            countdict[counter]= i\n",
    "    return Max\n",
    "findMaxLength([1,1,1,0,0,1,0,0,1,1,0,0,1,1,])"
   ]
  },
  {
   "cell_type": "code",
   "execution_count": 93,
   "metadata": {},
   "outputs": [
    {
     "data": {
      "text/plain": [
       "<enumerate at 0x2e10676e558>"
      ]
     },
     "execution_count": 93,
     "metadata": {},
     "output_type": "execute_result"
    }
   ],
   "source": [
    "enumerate([1,1,1,0,0,1,0,0,1,1,0,0,1,1,])"
   ]
  },
  {
   "cell_type": "code",
   "execution_count": null,
   "metadata": {},
   "outputs": [],
   "source": [
    "[1 0 0 0 1 1 0]--> [(1,0)(1,1)(1,2)(1,3)(2,3)(3,3)(3,4)]\n",
    "[1 1 1 1  0 1 1 1 0 1 1 0]--> [(1,0)(2,0)(3,0)(4,0)(4,1)(5,1)(6,1)(7,1)(7,2)(8,2)(9,2)(9,3)]"
   ]
  },
  {
   "cell_type": "code",
   "execution_count": null,
   "metadata": {},
   "outputs": [],
   "source": [
    "(1,0)(1,0)(1,0)(1,0)(0,1)(1,0)(1,0)(1,0)(0,1)(1,0)(1,0)(0,1)"
   ]
  }
 ],
 "metadata": {
  "kernelspec": {
   "display_name": "Python 3",
   "language": "python",
   "name": "python3"
  },
  "language_info": {
   "codemirror_mode": {
    "name": "ipython",
    "version": 3
   },
   "file_extension": ".py",
   "mimetype": "text/x-python",
   "name": "python",
   "nbconvert_exporter": "python",
   "pygments_lexer": "ipython3",
   "version": "3.7.3"
  }
 },
 "nbformat": 4,
 "nbformat_minor": 2
}
